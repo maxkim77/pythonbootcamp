{
  "nbformat": 4,
  "nbformat_minor": 0,
  "metadata": {
    "colab": {
      "provenance": [],
      "authorship_tag": "ABX9TyNBsClq1BpGk/baU9GIIJop",
      "include_colab_link": true
    },
    "kernelspec": {
      "name": "python3",
      "display_name": "Python 3"
    },
    "language_info": {
      "name": "python"
    }
  },
  "cells": [
    {
      "cell_type": "markdown",
      "metadata": {
        "id": "view-in-github",
        "colab_type": "text"
      },
      "source": [
        "<a href=\"https://colab.research.google.com/github/maxkim77/pythonbootcamp/blob/main/%ED%95%A8%EC%88%98.ipynb\" target=\"_parent\"><img src=\"https://colab.research.google.com/assets/colab-badge.svg\" alt=\"Open In Colab\"/></a>"
      ]
    },
    {
      "cell_type": "code",
      "execution_count": 4,
      "metadata": {
        "colab": {
          "base_uri": "https://localhost:8080/"
        },
        "id": "WbJDaYzX8Duv",
        "outputId": "b0dad9c5-c847-4d7e-caaa-bb3e1c358da1"
      },
      "outputs": [
        {
          "output_type": "stream",
          "name": "stdout",
          "text": [
            "['고기잡이', '고기팔기', '낚시_Lv1', '통발_Lv1', '큰그물_Lv1']\n"
          ]
        }
      ],
      "source": [
        "기술 = ['고기잡이', '고기팔기']\n",
        "기술.append('낚시_Lv1')\n",
        "기술.append('통발_Lv1')\n",
        "기술.append('큰그물_Lv1')\n",
        "print(기술)"
      ]
    },
    {
      "cell_type": "code",
      "source": [
        "#[In]\n",
        "\n",
        "이름 = '캣'\n",
        "설명 = '위니브 월드 외각에 살고 있는 생선가게 주인 캣(cat)'\n",
        "나이 = 15\n",
        "오늘_잡은_물고기 = '1000'\n",
        "키 = '45.5cm'\n",
        "몸무게 = 1.3\n",
        "육식 = True\n",
        "초식 = True\n",
        "돈 = 1000\n",
        "훈장 = ['백상아리를 잡은 고양이', '성실한 납세자', '해골섬 낚시꾼']\n",
        "기술 = ['고기잡이', '고기팔기', '낚시_Lv1', '통발_Lv1', '큰그물_Lv1']"
      ],
      "metadata": {
        "id": "ivpBogWa8Wzb"
      },
      "execution_count": 6,
      "outputs": []
    },
    {
      "cell_type": "code",
      "source": [
        "#[In]\n",
        "\n",
        "# 캣의 생선 잡기\n",
        "# 함수 정의하기\n",
        "def 낚시():\n",
        "    print('A등급 생선을 한 마리 잡았습니다.')\n",
        "\n",
        "def 그물():\n",
        "    print('A등급 3마리, B등급 3마리, C등급 4마리를 잡았습니다.')\n",
        "\n",
        "def 통발():\n",
        "    print('문어를 하나 잡았습니다.')\n",
        "\n",
        "# 함수 호출하기\n",
        "낚시()\n",
        "그물()\n",
        "통발()"
      ],
      "metadata": {
        "colab": {
          "base_uri": "https://localhost:8080/"
        },
        "id": "CSTegzuU8e4i",
        "outputId": "8459d9de-da27-4cdc-c00c-74e5083b68df"
      },
      "execution_count": 8,
      "outputs": [
        {
          "output_type": "stream",
          "name": "stdout",
          "text": [
            "A등급 생선을 한 마리 잡았습니다.\n",
            "A등급 3마리, B등급 3마리, C등급 4마리를 잡았습니다.\n",
            "문어를 하나 잡았습니다.\n"
          ]
        }
      ]
    },
    {
      "cell_type": "code",
      "source": [
        "#[In]\n",
        "\n",
        "def 낚시():\n",
        "    print('A등급 생선을 한 마리 잡았습니다.')\n",
        "    print('B등급 생선을 한 마리 잡았습니다.')\n",
        "\n",
        "낚시()"
      ],
      "metadata": {
        "colab": {
          "base_uri": "https://localhost:8080/"
        },
        "id": "WJX0P4ja8kcy",
        "outputId": "4b6c9e7e-f3ed-4ffc-faff-1da19f348770"
      },
      "execution_count": 10,
      "outputs": [
        {
          "output_type": "stream",
          "name": "stdout",
          "text": [
            "A등급 생선을 한 마리 잡았습니다.\n",
            "B등급 생선을 한 마리 잡았습니다.\n"
          ]
        }
      ]
    },
    {
      "cell_type": "code",
      "source": [
        "#[In]\n",
        "\n",
        "def function(x, y):\n",
        "    z = x + y\n",
        "    return z\n",
        "\n",
        "# A등급 10마리, B등급 9마리\n",
        "print('오늘 잡은 생선 :', function(10, 9))"
      ],
      "metadata": {
        "colab": {
          "base_uri": "https://localhost:8080/"
        },
        "id": "UYp2MjNh8o3g",
        "outputId": "7621a6a2-34ae-442d-a69d-85a6aa67c631"
      },
      "execution_count": 12,
      "outputs": [
        {
          "output_type": "stream",
          "name": "stdout",
          "text": [
            "오늘 잡은 생선 : 19\n"
          ]
        }
      ]
    },
    {
      "cell_type": "code",
      "source": [
        "#[In]\n",
        "\n",
        "def 낚시():\n",
        "    print('A등급 생선을 한 마리 잡았습니다.')"
      ],
      "metadata": {
        "id": "sH-NFKkY8zVI"
      },
      "execution_count": 14,
      "outputs": []
    },
    {
      "cell_type": "code",
      "source": [
        "#[In]\n",
        "\n",
        "def 계산(가격, 개수):\n",
        "    return 가격 * 개수\n",
        "\n",
        "print(계산(1000, 5), '원입니다.')"
      ],
      "metadata": {
        "colab": {
          "base_uri": "https://localhost:8080/"
        },
        "id": "YDpz6iKl83v_",
        "outputId": "1acc40b5-9f88-4f5c-cf98-7a21af562b19"
      },
      "execution_count": 16,
      "outputs": [
        {
          "output_type": "stream",
          "name": "stdout",
          "text": [
            "5000 원입니다.\n"
          ]
        }
      ]
    },
    {
      "cell_type": "code",
      "source": [
        "#[In]\n",
        "\n",
        "# A등급:1000원, B등급:500원, C등급:100원\n",
        "\n",
        "def 계산(a, b, c):\n",
        "    합계 = a*1000 + b*500 + c*100\n",
        "    return 합계\n",
        "\n",
        "print(계산(5, 2, 3), '원입니다.')"
      ],
      "metadata": {
        "colab": {
          "base_uri": "https://localhost:8080/"
        },
        "id": "0mr2qh-L85ox",
        "outputId": "1aa63e2f-638d-4edc-c774-d79eb4389b4d"
      },
      "execution_count": 18,
      "outputs": [
        {
          "output_type": "stream",
          "name": "stdout",
          "text": [
            "6300 원입니다.\n"
          ]
        }
      ]
    },
    {
      "cell_type": "code",
      "source": [
        "#[In]\n",
        "\n",
        "PI = 3.14\n",
        "def circle(r,inputpi):\n",
        "    z = r*r*inputpi\n",
        "    return z\n",
        "result = circle(10, PI)\n",
        "print(result)"
      ],
      "metadata": {
        "colab": {
          "base_uri": "https://localhost:8080/"
        },
        "id": "vKUR8zQ58-DI",
        "outputId": "cdaf53b6-dfa2-441d-f2ad-cdaebf9b9562"
      },
      "execution_count": 20,
      "outputs": [
        {
          "output_type": "stream",
          "name": "stdout",
          "text": [
            "314.0\n"
          ]
        }
      ]
    },
    {
      "cell_type": "code",
      "source": [
        "#[In]\n",
        "\n",
        "def 한글코딩(글자):\n",
        "    print(글자)\n",
        "한글코딩('안녕, 세상아.')"
      ],
      "metadata": {
        "colab": {
          "base_uri": "https://localhost:8080/"
        },
        "id": "E4f6MuvL9BIx",
        "outputId": "a39950af-96e2-4c0b-ade1-2d72b13febb5"
      },
      "execution_count": 22,
      "outputs": [
        {
          "output_type": "stream",
          "name": "stdout",
          "text": [
            "안녕, 세상아.\n"
          ]
        }
      ]
    },
    {
      "cell_type": "code",
      "source": [
        "#[In]\n",
        "\n",
        "A등급 = 0\n",
        "\n",
        "def 낚시():\n",
        "    global A등급\n",
        "    A등급 += 1\n",
        "\n",
        "낚시()\n",
        "낚시()\n",
        "\n",
        "print('잡은 A등급 :', A등급, '마리')"
      ],
      "metadata": {
        "colab": {
          "base_uri": "https://localhost:8080/"
        },
        "id": "TD2koefX9S7o",
        "outputId": "873fe790-1fa6-48f0-dd89-74bf268db6bf"
      },
      "execution_count": 25,
      "outputs": [
        {
          "output_type": "stream",
          "name": "stdout",
          "text": [
            "잡은 A등급 : 2 마리\n"
          ]
        }
      ]
    },
    {
      "cell_type": "code",
      "source": [
        "#[In]\n",
        "\n",
        "# 캣의 생선 잡기\n",
        "\n",
        "A = 0\n",
        "B = 0\n",
        "C = 0\n",
        "문어 = 0\n",
        "\n",
        "def 낚시():\n",
        "    global A\n",
        "    A += 1\n",
        "\n",
        "def 그물():\n",
        "    global A, B, C\n",
        "    A += 3\n",
        "    B += 3\n",
        "    C += 4\n",
        "\n",
        "def 통발():\n",
        "    global 문어\n",
        "    문어 += 1\n",
        "\n",
        "낚시()\n",
        "그물()\n",
        "통발()\n",
        "\n",
        "합계 = A + B + C + 문어\n",
        "print('오늘 잡은 생선의 합계 :', 합계)"
      ],
      "metadata": {
        "colab": {
          "base_uri": "https://localhost:8080/"
        },
        "id": "VdOLoNbc9kOh",
        "outputId": "ab4762ce-671a-4ad8-f6b5-9c51fb223ac7"
      },
      "execution_count": 27,
      "outputs": [
        {
          "output_type": "stream",
          "name": "stdout",
          "text": [
            "오늘 잡은 생선의 합계 : 12\n"
          ]
        }
      ]
    },
    {
      "cell_type": "code",
      "source": [
        "#[In]\n",
        "\n",
        "# global 사용전\n",
        "a = 100\n",
        "def f():\n",
        "    global a\n",
        "    a = a + 1\n",
        "f()"
      ],
      "metadata": {
        "id": "yyaSF4Ax9r6I"
      },
      "execution_count": 31,
      "outputs": []
    },
    {
      "cell_type": "code",
      "source": [
        "def 함수이름1():\n",
        "    코드\n",
        "    def 함수이름2():\n",
        "        코드"
      ],
      "metadata": {
        "id": "wJeRCurw91fX"
      },
      "execution_count": 33,
      "outputs": []
    },
    {
      "cell_type": "code",
      "source": [
        "#[In]\n",
        "\n",
        "def print_text():\n",
        "    text = '생선을 잡아보자!'\n",
        "    def txt():\n",
        "        print(text)\n",
        "    txt()\n",
        "\n",
        "print_text()"
      ],
      "metadata": {
        "colab": {
          "base_uri": "https://localhost:8080/"
        },
        "id": "T4FHm9V894_X",
        "outputId": "fc404be5-bb86-42c5-9911-e8e67602d01e"
      },
      "execution_count": 35,
      "outputs": [
        {
          "output_type": "stream",
          "name": "stdout",
          "text": [
            "생선을 잡아보자!\n"
          ]
        }
      ]
    },
    {
      "cell_type": "code",
      "source": [
        "#[In]\n",
        "\n",
        "def 생선잡기():\n",
        "    물고기 = {'A등급':0, 'B등급':0, 'C등급':0}\n",
        "\n",
        "    def 낚시():\n",
        "        물고기['A등급'] += 1\n",
        "\n",
        "    def 그물():\n",
        "        물고기['A등급'] += 3\n",
        "        물고기['B등급'] += 3\n",
        "        물고기['C등급'] += 4\n",
        "\n",
        "    def 통발():\n",
        "        물고기['문어'] = 1\n",
        "\n",
        "    낚시()\n",
        "    그물()\n",
        "    통발()\n",
        "\n",
        "    return 물고기\n",
        "\n",
        "생선잡기()\n",
        "# sum(생선잡기().values())"
      ],
      "metadata": {
        "colab": {
          "base_uri": "https://localhost:8080/"
        },
        "id": "shULQgns98LH",
        "outputId": "76582c7e-3e52-448d-b838-be7f581f2d1c"
      },
      "execution_count": 36,
      "outputs": [
        {
          "output_type": "execute_result",
          "data": {
            "text/plain": [
              "{'A등급': 4, 'B등급': 3, 'C등급': 4, '문어': 1}"
            ]
          },
          "metadata": {},
          "execution_count": 36
        }
      ]
    },
    {
      "cell_type": "code",
      "source": [
        "def factorial(x):\n",
        "    if x == 1:\n",
        "        return 1\n",
        "    else:\n",
        "        return x * factorial(x-1)\n",
        "\n",
        "factorial(5)"
      ],
      "metadata": {
        "colab": {
          "base_uri": "https://localhost:8080/"
        },
        "id": "syEAjUV7-Aef",
        "outputId": "305684bd-9b91-4a05-9991-eb9db1ca4bc7"
      },
      "execution_count": 37,
      "outputs": [
        {
          "output_type": "execute_result",
          "data": {
            "text/plain": [
              "120"
            ]
          },
          "metadata": {},
          "execution_count": 37
        }
      ]
    }
  ]
}