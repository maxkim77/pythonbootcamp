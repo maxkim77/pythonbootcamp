{
 "cells": [
  {
   "cell_type": "code",
   "execution_count": 2,
   "id": "5e324570",
   "metadata": {},
   "outputs": [
    {
     "data": {
      "text/plain": [
       "'\\nhello world\\nhello world\\n'"
      ]
     },
     "execution_count": 2,
     "metadata": {},
     "output_type": "execute_result"
    }
   ],
   "source": [
    "#hello world\n",
    "'''\n",
    "hello world\n",
    "hello world\n",
    "'''\n",
    "\n",
    "\"\"\"\n",
    "hello world\n",
    "hello world\n",
    "\"\"\"\n"
   ]
  },
  {
   "cell_type": "code",
   "execution_count": 4,
   "id": "4cb1b5ea",
   "metadata": {},
   "outputs": [
    {
     "ename": "NameError",
     "evalue": "name 'OxA1' is not defined",
     "output_type": "error",
     "traceback": [
      "\u001b[0;31m---------------------------------------------------------------------------\u001b[0m",
      "\u001b[0;31mNameError\u001b[0m                                 Traceback (most recent call last)",
      "Cell \u001b[0;32mIn[4], line 11\u001b[0m\n\u001b[1;32m      9\u001b[0m i \u001b[38;5;241m=\u001b[39m \u001b[38;5;241m0b110\u001b[39m\n\u001b[1;32m     10\u001b[0m j \u001b[38;5;241m=\u001b[39m \u001b[38;5;241m0o11\u001b[39m\n\u001b[0;32m---> 11\u001b[0m k \u001b[38;5;241m=\u001b[39m OxA1\n\u001b[1;32m     13\u001b[0m a, \u001b[38;5;28mtype\u001b[39m(a), \u001b[38;5;28mdir\u001b[39m(a)\n",
      "\u001b[0;31mNameError\u001b[0m: name 'OxA1' is not defined"
     ]
    }
   ],
   "source": [
    "a = 10\n",
    "b = 10.1\n",
    "c = -1\n",
    "d = True\n",
    "e = '10'\n",
    "f = 'lee'\n",
    "g = 'hojun'\n",
    "h = 10 + 2j\n",
    "i = 0b110\n",
    "j = 0o11\n",
    "k = OxA1\n",
    "\n",
    "a, type(a), dir(a)"
   ]
  },
  {
   "cell_type": "code",
   "execution_count": 5,
   "id": "2c073d1b",
   "metadata": {},
   "outputs": [
    {
     "ename": "SyntaxError",
     "evalue": "invalid syntax (1319807992.py, line 6)",
     "output_type": "error",
     "traceback": [
      "\u001b[0;36m  Cell \u001b[0;32mIn[5], line 6\u001b[0;36m\u001b[0m\n\u001b[0;31m    i, type(i), dir{i}\u001b[0m\n\u001b[0m                   ^\u001b[0m\n\u001b[0;31mSyntaxError\u001b[0m\u001b[0;31m:\u001b[0m invalid syntax\n"
     ]
    }
   ],
   "source": [
    "l = [10, 20, 30]\n",
    "m = (10, 20, 30)\n",
    "n = {10, 10, 20}\n",
    "o = {'key' : 'value'}\n",
    "\n",
    "i, type(i), dir{i}"
   ]
  },
  {
   "cell_type": "markdown",
   "id": "f6f679ae",
   "metadata": {},
   "source": [
    "입력과 출력\n"
   ]
  },
  {
   "cell_type": "code",
   "execution_count": 6,
   "id": "8e8a233d",
   "metadata": {},
   "outputs": [
    {
     "name": "stdout",
     "output_type": "stream",
     "text": [
      "입력하세요 : 10\n"
     ]
    },
    {
     "data": {
      "text/plain": [
       "20"
      ]
     },
     "execution_count": 6,
     "metadata": {},
     "output_type": "execute_result"
    }
   ],
   "source": [
    "x = input('입력하세요 : ')\n",
    "int(x) + int(x)"
   ]
  },
  {
   "cell_type": "markdown",
   "id": "a6857434",
   "metadata": {},
   "source": [
    "# 자주쓰는 built in function"
   ]
  },
  {
   "cell_type": "markdown",
   "id": "4d7ed9c8",
   "metadata": {},
   "source": [
    "- int()\n",
    "- float()\n",
    "- bool()\n",
    "- str()\n",
    "- tuple()\n",
    "- list()\n",
    "- dict()\n",
    "- set()"
   ]
  },
  {
   "cell_type": "code",
   "execution_count": 7,
   "id": "98c88bea",
   "metadata": {},
   "outputs": [
    {
     "name": "stdout",
     "output_type": "stream",
     "text": [
      "10 10.1 -1\n",
      "10!!10.1!!-1\n",
      "10:59:59\n",
      "10 10.1 -1!!10 10.1 -1!!"
     ]
    }
   ],
   "source": [
    "print(a,b,c)\n",
    "print(a,b,c, sep = '!!')\n",
    "print(10,59, 59, sep= ':')\n",
    "print(a,b,c, end = '!!')\n",
    "print(a,b,c, end = '!!')"
   ]
  },
  {
   "cell_type": "code",
   "execution_count": 8,
   "id": "b599fdbe",
   "metadata": {},
   "outputs": [
    {
     "name": "stdout",
     "output_type": "stream",
     "text": [
      "hi world\n",
      "10 X 10.1 = 101.0\n"
     ]
    }
   ],
   "source": [
    "hello = 'hi'\n",
    "print(f'{hello} world')\n",
    "print(f'{a} X {b} = {a*b}')"
   ]
  },
  {
   "cell_type": "code",
   "execution_count": 9,
   "id": "c879b065",
   "metadata": {},
   "outputs": [
    {
     "name": "stdout",
     "output_type": "stream",
     "text": [
      "안녕하세요. 제이름 은 이호준 입니다. 제나이는 10 살입니다.\n"
     ]
    }
   ],
   "source": [
    "이름 = '이호준'\n",
    "나이 = 10\n",
    "print('안녕하세요. 제이름 은', 이름, '입니다. 제나이는', 나이, '살입니다.')"
   ]
  },
  {
   "cell_type": "markdown",
   "id": "19480d48",
   "metadata": {},
   "source": [
    "# 숫자 자료형"
   ]
  },
  {
   "cell_type": "markdown",
   "id": "0008829d",
   "metadata": {},
   "source": [
    "- 최댓값, 최솟값이 없고, 자동으로 메모리할당\n",
    "- int, float, complex가 있음"
   ]
  },
  {
   "cell_type": "code",
   "execution_count": 10,
   "id": "71a4706b",
   "metadata": {},
   "outputs": [
    {
     "data": {
      "text/plain": [
       "(int, int)"
      ]
     },
     "execution_count": 10,
     "metadata": {},
     "output_type": "execute_result"
    }
   ],
   "source": [
    "import sys\n",
    "최댓값_변수 = sys.maxsize\n",
    "최댓값_변수2 = 최댓값_변수 + i\n",
    "\n",
    "type(최댓값_변수), type(최댓값_변수2)"
   ]
  },
  {
   "cell_type": "code",
   "execution_count": 11,
   "id": "0a2488c8",
   "metadata": {},
   "outputs": [
    {
     "data": {
      "text/plain": [
       "9223372036854775807"
      ]
     },
     "execution_count": 11,
     "metadata": {},
     "output_type": "execute_result"
    }
   ],
   "source": [
    "최댓값_변수"
   ]
  },
  {
   "cell_type": "code",
   "execution_count": 12,
   "id": "b4af3d43",
   "metadata": {},
   "outputs": [
    {
     "data": {
      "text/plain": [
       "4306068048"
      ]
     },
     "execution_count": 12,
     "metadata": {},
     "output_type": "execute_result"
    }
   ],
   "source": [
    "id(최댓값_변수)"
   ]
  },
  {
   "cell_type": "code",
   "execution_count": 13,
   "id": "cb2ba86f",
   "metadata": {},
   "outputs": [
    {
     "data": {
      "text/plain": [
       "False"
      ]
     },
     "execution_count": 13,
     "metadata": {},
     "output_type": "execute_result"
    }
   ],
   "source": [
    "a == b"
   ]
  },
  {
   "cell_type": "code",
   "execution_count": 14,
   "id": "27665d50",
   "metadata": {},
   "outputs": [
    {
     "data": {
      "text/plain": [
       "False"
      ]
     },
     "execution_count": 14,
     "metadata": {},
     "output_type": "execute_result"
    }
   ],
   "source": [
    "a is b"
   ]
  },
  {
   "cell_type": "code",
   "execution_count": 15,
   "id": "0d1464f5",
   "metadata": {},
   "outputs": [],
   "source": [
    "a = 10\n",
    "b = 0b110\n",
    "c = 0o11\n",
    "d = 0x1A\n",
    "e = 10.1\n",
    "f = 1 + 2j"
   ]
  },
  {
   "cell_type": "code",
   "execution_count": 16,
   "id": "1b6e1557",
   "metadata": {},
   "outputs": [
    {
     "data": {
      "text/plain": [
       "(int, int, int, int, float, complex)"
      ]
     },
     "execution_count": 16,
     "metadata": {},
     "output_type": "execute_result"
    }
   ],
   "source": [
    "type(a), type(b), type(c), type(d), type(e), type(f)"
   ]
  },
  {
   "cell_type": "code",
   "execution_count": 17,
   "id": "77f4724e",
   "metadata": {},
   "outputs": [
    {
     "data": {
      "text/plain": [
       "(10, 6, 9, 26, 10.1, (1+2j))"
      ]
     },
     "execution_count": 17,
     "metadata": {},
     "output_type": "execute_result"
    }
   ],
   "source": [
    "a, b, c, d, e, f"
   ]
  },
  {
   "cell_type": "code",
   "execution_count": 18,
   "id": "f3ecee6b",
   "metadata": {},
   "outputs": [
    {
     "data": {
      "text/plain": [
       "('0b110', '0o11', '0x1a')"
      ]
     },
     "execution_count": 18,
     "metadata": {},
     "output_type": "execute_result"
    }
   ],
   "source": [
    "bin(b), oct(c), hex(d)"
   ]
  },
  {
   "cell_type": "code",
   "execution_count": 19,
   "id": "c65a4ef8",
   "metadata": {},
   "outputs": [
    {
     "data": {
      "text/plain": [
       "(str, str, str)"
      ]
     },
     "execution_count": 19,
     "metadata": {},
     "output_type": "execute_result"
    }
   ],
   "source": [
    "type(bin(b)), type(oct(c)), type(hex(d))"
   ]
  },
  {
   "cell_type": "code",
   "execution_count": 20,
   "id": "bc1f8f1a",
   "metadata": {},
   "outputs": [
    {
     "data": {
      "text/plain": [
       "'110'"
      ]
     },
     "execution_count": 20,
     "metadata": {},
     "output_type": "execute_result"
    }
   ],
   "source": [
    "int(bin(b),2), int(oct(c), 8), int(hex(d), 16)\n",
    "bin(b)[2:]"
   ]
  },
  {
   "cell_type": "code",
   "execution_count": 21,
   "id": "d9de0573",
   "metadata": {},
   "outputs": [
    {
     "data": {
      "text/plain": [
       "['__abs__',\n",
       " '__add__',\n",
       " '__and__',\n",
       " '__bool__',\n",
       " '__ceil__',\n",
       " '__class__',\n",
       " '__delattr__',\n",
       " '__dir__',\n",
       " '__divmod__',\n",
       " '__doc__',\n",
       " '__eq__',\n",
       " '__float__',\n",
       " '__floor__',\n",
       " '__floordiv__',\n",
       " '__format__',\n",
       " '__ge__',\n",
       " '__getattribute__',\n",
       " '__getnewargs__',\n",
       " '__getstate__',\n",
       " '__gt__',\n",
       " '__hash__',\n",
       " '__index__',\n",
       " '__init__',\n",
       " '__init_subclass__',\n",
       " '__int__',\n",
       " '__invert__',\n",
       " '__le__',\n",
       " '__lshift__',\n",
       " '__lt__',\n",
       " '__mod__',\n",
       " '__mul__',\n",
       " '__ne__',\n",
       " '__neg__',\n",
       " '__new__',\n",
       " '__or__',\n",
       " '__pos__',\n",
       " '__pow__',\n",
       " '__radd__',\n",
       " '__rand__',\n",
       " '__rdivmod__',\n",
       " '__reduce__',\n",
       " '__reduce_ex__',\n",
       " '__repr__',\n",
       " '__rfloordiv__',\n",
       " '__rlshift__',\n",
       " '__rmod__',\n",
       " '__rmul__',\n",
       " '__ror__',\n",
       " '__round__',\n",
       " '__rpow__',\n",
       " '__rrshift__',\n",
       " '__rshift__',\n",
       " '__rsub__',\n",
       " '__rtruediv__',\n",
       " '__rxor__',\n",
       " '__setattr__',\n",
       " '__sizeof__',\n",
       " '__str__',\n",
       " '__sub__',\n",
       " '__subclasshook__',\n",
       " '__truediv__',\n",
       " '__trunc__',\n",
       " '__xor__',\n",
       " 'as_integer_ratio',\n",
       " 'bit_count',\n",
       " 'bit_length',\n",
       " 'conjugate',\n",
       " 'denominator',\n",
       " 'from_bytes',\n",
       " 'imag',\n",
       " 'numerator',\n",
       " 'real',\n",
       " 'to_bytes']"
      ]
     },
     "execution_count": 21,
     "metadata": {},
     "output_type": "execute_result"
    }
   ],
   "source": [
    "dir(b)"
   ]
  },
  {
   "cell_type": "code",
   "execution_count": 22,
   "id": "02efff19",
   "metadata": {},
   "outputs": [
    {
     "data": {
      "text/plain": [
       "3.3"
      ]
     },
     "execution_count": 22,
     "metadata": {},
     "output_type": "execute_result"
    }
   ],
   "source": [
    "11 * 0.3"
   ]
  },
  {
   "cell_type": "markdown",
   "id": "c5ba0c83",
   "metadata": {},
   "source": [
    "# 문자 자료형"
   ]
  },
  {
   "cell_type": "markdown",
   "id": "8122a417",
   "metadata": {},
   "source": [
    "- 순서가 있는 시퀀스형 자료형\n",
    "- 작은 따옴표나 큰 따옴표로 묶을 수 있으며, 주석처럼 3개를 감싸는 것도 가능함\n",
    "- 작은 따옴표안에 큰 따옴표를 큰따옴표안에 작은 따옴표 사용 가능\n",
    "- 이스케이프 문자 사용가능"
   ]
  },
  {
   "cell_type": "code",
   "execution_count": 23,
   "id": "dc732de0",
   "metadata": {},
   "outputs": [],
   "source": [
    "s = 'paullab CEO leehojun'"
   ]
  },
  {
   "cell_type": "code",
   "execution_count": 24,
   "id": "8ac630ca",
   "metadata": {},
   "outputs": [
    {
     "name": "stdout",
     "output_type": "stream",
     "text": [
      "paullab CEO leehojun\n"
     ]
    }
   ],
   "source": [
    "print(s)"
   ]
  },
  {
   "cell_type": "code",
   "execution_count": 25,
   "id": "0abbe8ed",
   "metadata": {},
   "outputs": [
    {
     "name": "stdout",
     "output_type": "stream",
     "text": [
      "<class 'str'>\n",
      "['__add__', '__class__', '__contains__', '__delattr__', '__dir__', '__doc__', '__eq__', '__format__', '__ge__', '__getattribute__', '__getitem__', '__getnewargs__', '__getstate__', '__gt__', '__hash__', '__init__', '__init_subclass__', '__iter__', '__le__', '__len__', '__lt__', '__mod__', '__mul__', '__ne__', '__new__', '__reduce__', '__reduce_ex__', '__repr__', '__rmod__', '__rmul__', '__setattr__', '__sizeof__', '__str__', '__subclasshook__', 'capitalize', 'casefold', 'center', 'count', 'encode', 'endswith', 'expandtabs', 'find', 'format', 'format_map', 'index', 'isalnum', 'isalpha', 'isascii', 'isdecimal', 'isdigit', 'isidentifier', 'islower', 'isnumeric', 'isprintable', 'isspace', 'istitle', 'isupper', 'join', 'ljust', 'lower', 'lstrip', 'maketrans', 'partition', 'removeprefix', 'removesuffix', 'replace', 'rfind', 'rindex', 'rjust', 'rpartition', 'rsplit', 'rstrip', 'split', 'splitlines', 'startswith', 'strip', 'swapcase', 'title', 'translate', 'upper', 'zfill']\n"
     ]
    }
   ],
   "source": [
    "print(type(s))\n",
    "print(dir(s))"
   ]
  },
  {
   "cell_type": "code",
   "execution_count": 26,
   "id": "7954fe06",
   "metadata": {},
   "outputs": [
    {
     "data": {
      "text/plain": [
       "'paullab CEO leehojun'"
      ]
     },
     "execution_count": 26,
     "metadata": {},
     "output_type": "execute_result"
    }
   ],
   "source": [
    "s"
   ]
  },
  {
   "cell_type": "code",
   "execution_count": 28,
   "id": "ab88d19c",
   "metadata": {},
   "outputs": [
    {
     "data": {
      "text/plain": [
       "'paul'"
      ]
     },
     "execution_count": 28,
     "metadata": {},
     "output_type": "execute_result"
    }
   ],
   "source": [
    "s[:4]"
   ]
  },
  {
   "cell_type": "markdown",
   "id": "7180fd4c",
   "metadata": {},
   "source": [
    "# 이스케이프 문자\n",
    " - \\n: 엔터(개행)\n",
    " - \\t: 탭\n",
    " - ': 작은 따욤\n",
    " - \": 큰 따옴표\n",
    " - \\b: 백스페이스\n",
    " - \\\\: 역슬러쉬 표현"
   ]
  },
  {
   "cell_type": "code",
   "execution_count": 30,
   "id": "eb1af2c8",
   "metadata": {},
   "outputs": [
    {
     "data": {
      "text/plain": [
       "'PAULLAUUB'"
      ]
     },
     "execution_count": 30,
     "metadata": {},
     "output_type": "execute_result"
    }
   ],
   "source": [
    "s = 'paullauub'\n",
    "s.lower()\n",
    "s.upper()"
   ]
  },
  {
   "cell_type": "code",
   "execution_count": 31,
   "id": "f2fb9be1",
   "metadata": {},
   "outputs": [
    {
     "data": {
      "text/plain": [
       "0"
      ]
     },
     "execution_count": 31,
     "metadata": {},
     "output_type": "execute_result"
    }
   ],
   "source": [
    "s.find('paul')"
   ]
  },
  {
   "cell_type": "code",
   "execution_count": 32,
   "id": "7e990cbd",
   "metadata": {},
   "outputs": [
    {
     "data": {
      "text/plain": [
       "2"
      ]
     },
     "execution_count": 32,
     "metadata": {},
     "output_type": "execute_result"
    }
   ],
   "source": [
    "s.count('l')"
   ]
  },
  {
   "cell_type": "markdown",
   "id": "f5ff42e8",
   "metadata": {},
   "source": [
    "# 문자열의 사칙연산"
   ]
  },
  {
   "cell_type": "code",
   "execution_count": 35,
   "id": "f8e73820",
   "metadata": {},
   "outputs": [
    {
     "ename": "TypeError",
     "evalue": "unsupported operand type(s) for //: 'str' and 'str'",
     "output_type": "error",
     "traceback": [
      "\u001b[0;31m---------------------------------------------------------------------------\u001b[0m",
      "\u001b[0;31mTypeError\u001b[0m                                 Traceback (most recent call last)",
      "Cell \u001b[0;32mIn[35], line 4\u001b[0m\n\u001b[1;32m      2\u001b[0m s \u001b[38;5;241m+\u001b[39m s\n\u001b[1;32m      3\u001b[0m s \u001b[38;5;241m*\u001b[39m \u001b[38;5;241m3\u001b[39m\n\u001b[0;32m----> 4\u001b[0m s \u001b[38;5;241m/\u001b[39m\u001b[38;5;241m/\u001b[39ms\n",
      "\u001b[0;31mTypeError\u001b[0m: unsupported operand type(s) for //: 'str' and 'str'"
     ]
    }
   ],
   "source": [
    "s = 'leehojun'\n",
    "s + s\n",
    "s * 3\n",
    "# s //s  문자열은 더하기 곱하기만"
   ]
  },
  {
   "cell_type": "code",
   "execution_count": null,
   "id": "85c7776e",
   "metadata": {},
   "outputs": [],
   "source": [
    "name = 'leehojun'\n",
    "age = 10\n",
    "s = '이름은 %s 입니다. 나ㅏ이는 %d 입니다.' %(name, age)"
   ]
  },
  {
   "cell_type": "code",
   "execution_count": 39,
   "id": "d201961d",
   "metadata": {},
   "outputs": [
    {
     "ename": "NameError",
     "evalue": "name 'name' is not defined",
     "output_type": "error",
     "traceback": [
      "\u001b[0;31m---------------------------------------------------------------------------\u001b[0m",
      "\u001b[0;31mNameError\u001b[0m                                 Traceback (most recent call last)",
      "Cell \u001b[0;32mIn[39], line 1\u001b[0m\n\u001b[0;32m----> 1\u001b[0m \u001b[38;5;28mprint\u001b[39m(\u001b[38;5;124m'\u001b[39m\u001b[38;5;124m1. 이름은 \u001b[39m\u001b[38;5;132;01m{}\u001b[39;00m\u001b[38;5;124m 입니다. 나이는 \u001b[39m\u001b[38;5;132;01m{}\u001b[39;00m\u001b[38;5;124m입니다.\u001b[39m\u001b[38;5;124m'\u001b[39m\u001b[38;5;241m.\u001b[39mformat(name,age))\n",
      "\u001b[0;31mNameError\u001b[0m: name 'name' is not defined"
     ]
    }
   ],
   "source": [
    "print('1. 이름은 {} 입니다. 나이는 {}입니다.'.format(name,age))"
   ]
  },
  {
   "cell_type": "code",
   "execution_count": 40,
   "id": "b1b6a12b",
   "metadata": {},
   "outputs": [
    {
     "name": "stdout",
     "output_type": "stream",
     "text": [
      "2X3=6\n"
     ]
    }
   ],
   "source": [
    "print('{}X{}={}'.format(2,3,6))"
   ]
  },
  {
   "cell_type": "code",
   "execution_count": 42,
   "id": "3483b6f8",
   "metadata": {},
   "outputs": [
    {
     "name": "stdout",
     "output_type": "stream",
     "text": [
      "2.100\n",
      "2.1000\n"
     ]
    }
   ],
   "source": [
    "print('{0:.3f}'.format(2.1))\n",
    "print('{0:.4f}'.format(2.1))"
   ]
  },
  {
   "cell_type": "markdown",
   "id": "f22ffbc1-6cb3-45a3-b96f-12f039d90e82",
   "metadata": {},
   "source": [
    "## 비교연산"
   ]
  },
  {
   "cell_type": "code",
   "execution_count": 2,
   "id": "519e15d0-a486-417b-a042-3a7628098362",
   "metadata": {},
   "outputs": [
    {
     "ename": "NameError",
     "evalue": "name 'a' is not defined",
     "output_type": "error",
     "traceback": [
      "\u001b[1;31m---------------------------------------------------------------------------\u001b[0m",
      "\u001b[1;31mNameError\u001b[0m                                 Traceback (most recent call last)",
      "Cell \u001b[1;32mIn[2], line 1\u001b[0m\n\u001b[1;32m----> 1\u001b[0m \u001b[38;5;28mprint\u001b[39m(\u001b[43ma\u001b[49m \u001b[38;5;241m==\u001b[39m b)\n\u001b[0;32m      2\u001b[0m \u001b[38;5;28mprint\u001b[39m(a \u001b[38;5;241m!=\u001b[39m b)\n\u001b[0;32m      3\u001b[0m \u001b[38;5;28mprint\u001b[39m(a \u001b[38;5;241m>\u001b[39m\u001b[38;5;241m=\u001b[39m b)\n",
      "\u001b[1;31mNameError\u001b[0m: name 'a' is not defined"
     ]
    }
   ],
   "source": [
    "print(a == b)\n",
    "print(a != b)\n",
    "print(a >= b)\n",
    "print(a > b)\n",
    "print(a < b)\n",
    "print(a <= b)"
   ]
  },
  {
   "cell_type": "markdown",
   "id": "c47092ca-c272-438a-b602-b562b57e4542",
   "metadata": {},
   "source": [
    "### 논리연산"
   ]
  },
  {
   "cell_type": "code",
   "execution_count": 3,
   "id": "af5b4f13-72a8-4e62-9b14-bb8d07c7ecac",
   "metadata": {},
   "outputs": [],
   "source": [
    "a = True\n",
    "b = False"
   ]
  },
  {
   "cell_type": "code",
   "execution_count": 4,
   "id": "95533e9d-4eb6-4cfe-ae23-7c9d8204a1b3",
   "metadata": {},
   "outputs": [
    {
     "data": {
      "text/plain": [
       "False"
      ]
     },
     "execution_count": 4,
     "metadata": {},
     "output_type": "execute_result"
    }
   ],
   "source": [
    "b and (b and c and d and e)"
   ]
  },
  {
   "cell_type": "code",
   "execution_count": 6,
   "id": "a6845cb6-8bc4-49e6-bdad-f85ed013c1a6",
   "metadata": {},
   "outputs": [
    {
     "name": "stdout",
     "output_type": "stream",
     "text": [
      "True\n",
      "True\n",
      "False\n"
     ]
    }
   ],
   "source": [
    "print(a or b)\n",
    "print(a or a)\n",
    "print(b or b)\n"
   ]
  },
  {
   "cell_type": "code",
   "execution_count": 7,
   "id": "17ad7ff7-8171-418c-a1f9-fb9b6c167d74",
   "metadata": {},
   "outputs": [
    {
     "name": "stdout",
     "output_type": "stream",
     "text": [
      "0\n",
      "15\n",
      "30\n",
      "45\n",
      "60\n",
      "75\n",
      "90\n"
     ]
    }
   ],
   "source": [
    "for i in range(100):\n",
    "    if i % 3 == 0 and i % 5 == 0:\n",
    "        print(i)"
   ]
  },
  {
   "cell_type": "markdown",
   "id": "3ef26e23-931c-4b94-b860-4882aef2e3c0",
   "metadata": {},
   "source": [
    "## 비트연산, 할당연산, 식별연산, in 구문"
   ]
  },
  {
   "cell_type": "code",
   "execution_count": 8,
   "id": "c855a301-1378-445c-b239-c782910283b7",
   "metadata": {},
   "outputs": [
    {
     "data": {
      "text/plain": [
       "20"
      ]
     },
     "execution_count": 8,
     "metadata": {},
     "output_type": "execute_result"
    }
   ],
   "source": [
    "10+10"
   ]
  },
  {
   "cell_type": "code",
   "execution_count": 9,
   "id": "a1dc7856-ab66-4f8b-b22c-4d18264f8ece",
   "metadata": {},
   "outputs": [
    {
     "data": {
      "text/plain": [
       "'0b10100'"
      ]
     },
     "execution_count": 9,
     "metadata": {},
     "output_type": "execute_result"
    }
   ],
   "source": [
    "bin(10+10)"
   ]
  },
  {
   "cell_type": "code",
   "execution_count": 13,
   "id": "a1652e1c-4a3f-40a1-9f5f-f896b2873c0c",
   "metadata": {},
   "outputs": [
    {
     "data": {
      "text/plain": [
       "15"
      ]
     },
     "execution_count": 13,
     "metadata": {},
     "output_type": "execute_result"
    }
   ],
   "source": [
    "a = 10\n",
    "a += 10\n",
    "a -= 5\n",
    "a"
   ]
  },
  {
   "cell_type": "code",
   "execution_count": 14,
   "id": "7ec86853-76fa-4b18-a9cb-e7d3111643f1",
   "metadata": {},
   "outputs": [
    {
     "data": {
      "text/plain": [
       "('0b101000', '0b1110')"
      ]
     },
     "execution_count": 14,
     "metadata": {},
     "output_type": "execute_result"
    }
   ],
   "source": [
    "a = 40\n",
    "b = 14\n",
    "a & b\n",
    "bin(a), bin(b)"
   ]
  },
  {
   "cell_type": "code",
   "execution_count": 15,
   "id": "d95230d7-bd0d-4571-8626-bec6d8edc4e9",
   "metadata": {},
   "outputs": [
    {
     "data": {
      "text/plain": [
       "('0b101000', '0b1110')"
      ]
     },
     "execution_count": 15,
     "metadata": {},
     "output_type": "execute_result"
    }
   ],
   "source": [
    "a = 40\n",
    "b = 14\n",
    "a | b\n",
    "\n",
    "bin(a), bin(b)"
   ]
  },
  {
   "cell_type": "code",
   "execution_count": 16,
   "id": "6693ac67-bf98-490b-8085-c1a0a7409789",
   "metadata": {},
   "outputs": [
    {
     "data": {
      "text/plain": [
       "-41"
      ]
     },
     "execution_count": 16,
     "metadata": {},
     "output_type": "execute_result"
    }
   ],
   "source": [
    "~a"
   ]
  },
  {
   "cell_type": "code",
   "execution_count": 18,
   "id": "ea0a90f0-512c-4dcf-8e00-3d7924aca9a3",
   "metadata": {},
   "outputs": [
    {
     "name": "stdout",
     "output_type": "stream",
     "text": [
      "0b101000\n",
      "80\n",
      "160\n",
      "0b101000\n",
      "10\n",
      "10\n"
     ]
    }
   ],
   "source": [
    "a = 40\n",
    "print(bin(a))\n",
    "print(int('1010000',2))\n",
    "print(a << 2)\n",
    "print(bin(a))\n",
    "print(int('1010',2))\n",
    "print(a>>2)"
   ]
  },
  {
   "cell_type": "markdown",
   "id": "10efbc31-5f40-4b3e-8908-f94e6900daf5",
   "metadata": {},
   "source": [
    "## 연산자 우선순위\n",
    "1. 리스트, 튜플, 딕셔너리, 셋\n",
    "2. 인덱싱, 슬라이싱\n",
    "3. **\n",
    "4. *, @, /, /, %\n",
    "5. +, -"
   ]
  },
  {
   "cell_type": "code",
   "execution_count": 19,
   "id": "62eae2b5-5f05-4ffe-8c6d-a6e9c4c455d3",
   "metadata": {},
   "outputs": [
    {
     "data": {
      "text/plain": [
       "True"
      ]
     },
     "execution_count": 19,
     "metadata": {},
     "output_type": "execute_result"
    }
   ],
   "source": [
    "a = 100\n",
    "b = 100\n",
    "\n",
    "a == b\n",
    "a is b"
   ]
  },
  {
   "cell_type": "code",
   "execution_count": 20,
   "id": "81ac354d-4962-4550-98c9-f879280fad7f",
   "metadata": {},
   "outputs": [
    {
     "data": {
      "text/plain": [
       "True"
      ]
     },
     "execution_count": 20,
     "metadata": {},
     "output_type": "execute_result"
    }
   ],
   "source": [
    "a = 10\n",
    "b = a\n",
    "c = b\n",
    "\n",
    "a == c\n",
    "a is c\n"
   ]
  },
  {
   "cell_type": "code",
   "execution_count": 21,
   "id": "5b8add56-343c-40a9-a904-85347d127a49",
   "metadata": {},
   "outputs": [
    {
     "data": {
      "text/plain": [
       "(2498990539456, 2498990511232)"
      ]
     },
     "execution_count": 21,
     "metadata": {},
     "output_type": "execute_result"
    }
   ],
   "source": [
    "a = [1,2,3,4]\n",
    "b = [1,2,3,4]\n",
    "a == b\n",
    "a is b\n",
    "id(a), id(b)"
   ]
  },
  {
   "cell_type": "markdown",
   "id": "ac0cce7b-7d7e-435e-b51d-45a571c00beb",
   "metadata": {},
   "source": [
    "# in 구문"
   ]
  },
  {
   "cell_type": "code",
   "execution_count": 22,
   "id": "a15f6ec4-9623-45a7-b627-e38e2d6c3e92",
   "metadata": {},
   "outputs": [
    {
     "data": {
      "text/plain": [
       "(True, False, False)"
      ]
     },
     "execution_count": 22,
     "metadata": {},
     "output_type": "execute_result"
    }
   ],
   "source": [
    "a = [1,2,3,4]\n",
    "b = [1,2,3,4]\n",
    "a == b, a is b, a in b"
   ]
  },
  {
   "cell_type": "code",
   "execution_count": 24,
   "id": "aaf70459-19b6-432c-8eb4-f66949ad8cf5",
   "metadata": {},
   "outputs": [
    {
     "data": {
      "text/plain": [
       "False"
      ]
     },
     "execution_count": 24,
     "metadata": {},
     "output_type": "execute_result"
    }
   ],
   "source": [
    "a = [1, 2, 3, 4]\n",
    "b = [1, 2, 3, 4]\n",
    "2 in b,\n",
    "[2] in b,\n",
    "[1,2] in b"
   ]
  },
  {
   "cell_type": "code",
   "execution_count": 25,
   "id": "1ab81dc7-1cc3-42b8-9c63-24e28098b6b3",
   "metadata": {},
   "outputs": [
    {
     "data": {
      "text/plain": [
       "True"
      ]
     },
     "execution_count": 25,
     "metadata": {},
     "output_type": "execute_result"
    }
   ],
   "source": [
    "'lee' in 'leehojun'"
   ]
  },
  {
   "cell_type": "code",
   "execution_count": 28,
   "id": "0a758f20-6a43-4598-88f2-161bed1b712f",
   "metadata": {},
   "outputs": [
    {
     "ename": "SyntaxError",
     "evalue": "invalid syntax (2961632844.py, line 1)",
     "output_type": "error",
     "traceback": [
      "\u001b[1;36m  Cell \u001b[1;32mIn[28], line 1\u001b[1;36m\u001b[0m\n\u001b[1;33m    1 True in True\u001b[0m\n\u001b[1;37m      ^\u001b[0m\n\u001b[1;31mSyntaxError\u001b[0m\u001b[1;31m:\u001b[0m invalid syntax\n"
     ]
    }
   ],
   "source": [
    "1 True in True"
   ]
  },
  {
   "cell_type": "code",
   "execution_count": 29,
   "id": "7da59219-18cd-4318-9c68-17ea45315326",
   "metadata": {},
   "outputs": [
    {
     "data": {
      "text/plain": [
       "True"
      ]
     },
     "execution_count": 29,
     "metadata": {},
     "output_type": "execute_result"
    }
   ],
   "source": [
    "a = {'key':'value', 'key2':'value'}\n",
    "'key' in a"
   ]
  },
  {
   "cell_type": "markdown",
   "id": "82eb91d7-e8b8-4c91-8005-4942ce88cd91",
   "metadata": {},
   "source": [
    "## 함수"
   ]
  },
  {
   "cell_type": "code",
   "execution_count": 31,
   "id": "2435aa62-b492-4bd3-8798-8202bb28c0f6",
   "metadata": {},
   "outputs": [
    {
     "name": "stdout",
     "output_type": "stream",
     "text": [
      "1\n",
      "2\n",
      "3\n"
     ]
    }
   ],
   "source": [
    "def 숫자출력():\n",
    "    print(1)\n",
    "    print(2)\n",
    "    print(3)\n",
    "숫자출력()"
   ]
  },
  {
   "cell_type": "code",
   "execution_count": 32,
   "id": "64d91c3e-aed8-47e5-8a87-ef5582995b79",
   "metadata": {},
   "outputs": [
    {
     "name": "stdout",
     "output_type": "stream",
     "text": [
      "(314.0, 10)\n"
     ]
    }
   ],
   "source": [
    "def 원의넓이(반지름, pi):\n",
    "    result = (반지름 ** 2) * pi\n",
    "    return result, 반지름\n",
    "\n",
    "print(원의넓이(10, 3.14))"
   ]
  },
  {
   "cell_type": "markdown",
   "id": "c2b74402-565b-4849-b4fa-e4cfb0447b41",
   "metadata": {},
   "source": [
    "def 원의넓이(반지름, pi, x=0, y=0):\n",
    "    result = (반지름**2)*pi\n",
    "    return result, 반지름, x, y\n",
    "print(원그리기(10, 3.14, 15, 20))"
   ]
  },
  {
   "cell_type": "markdown",
   "id": "d0fe1a38-fed1-4a75-9472-2e23cac74410",
   "metadata": {},
   "source": [
    "## 재귀함수"
   ]
  },
  {
   "cell_type": "code",
   "execution_count": 48,
   "id": "7cbdb89b-1c1c-416a-8fba-de40217b8681",
   "metadata": {},
   "outputs": [
    {
     "data": {
      "text/plain": [
       "120"
      ]
     },
     "execution_count": 48,
     "metadata": {},
     "output_type": "execute_result"
    }
   ],
   "source": [
    "def factorial(n):\n",
    "    if n == 1:\n",
    "        return 1\n",
    "    else:\n",
    "        return n*factorial(n-1)\n",
    "factorial(5)"
   ]
  },
  {
   "cell_type": "code",
   "execution_count": 54,
   "id": "f4e14f3b-41ce-4170-9106-feb93381275e",
   "metadata": {},
   "outputs": [
    {
     "data": {
      "text/plain": [
       "5050"
      ]
     },
     "execution_count": 54,
     "metadata": {},
     "output_type": "execute_result"
    }
   ],
   "source": [
    "def 시그마(n):\n",
    "    if n == 1:\n",
    "        return 1\n",
    "    else:\n",
    "        return n + 시그마(n-1)\n",
    "시그마(100)"
   ]
  },
  {
   "cell_type": "markdown",
   "id": "882c698e-dc2a-476a-88c2-963b242791d3",
   "metadata": {},
   "source": [
    "## 리스트\n",
    "1. 리스트는 순서가 있는 시퀀스형 자료형입니다.\n",
    "2. 값의 변경이 가능합니다.\n",
    "3. 다른 자료형을 입력 할 수 있으며, 리스트 안에 리스트로 다차원의 리스트를 만드는 것도 가능합니다.\n",
    "4. 값의 중복을 허락합니다\n",
    "   "
   ]
  },
  {
   "cell_type": "code",
   "execution_count": 1,
   "id": "50cc4071-4ea1-41e7-ab2a-78a0e526c15a",
   "metadata": {},
   "outputs": [
    {
     "data": {
      "text/plain": [
       "[1, 2, 3]"
      ]
     },
     "execution_count": 1,
     "metadata": {},
     "output_type": "execute_result"
    }
   ],
   "source": [
    "a = [1,2,3,4,5]\n",
    "a[0]\n",
    "a[0:3]"
   ]
  },
  {
   "cell_type": "code",
   "execution_count": 2,
   "id": "d804b9c1-5605-4426-bec4-68279c1629c1",
   "metadata": {},
   "outputs": [
    {
     "data": {
      "text/plain": [
       "[10000, 2, 3, 4, 5]"
      ]
     },
     "execution_count": 2,
     "metadata": {},
     "output_type": "execute_result"
    }
   ],
   "source": [
    "a[0]=10000\n",
    "a"
   ]
  },
  {
   "cell_type": "code",
   "execution_count": 3,
   "id": "03f85ccd-38d9-4ca5-bd5d-e90cf761f5a6",
   "metadata": {},
   "outputs": [
    {
     "data": {
      "text/plain": [
       "'l'"
      ]
     },
     "execution_count": 3,
     "metadata": {},
     "output_type": "execute_result"
    }
   ],
   "source": [
    "s = 'leehojun'\n",
    "s[0]"
   ]
  },
  {
   "cell_type": "code",
   "execution_count": 5,
   "id": "b93e3273-c42b-4eff-a523-5dadde8c24bd",
   "metadata": {},
   "outputs": [],
   "source": [
    "k = {1, 2, 3, 4, 5, 5, 5, 5, 5}"
   ]
  },
  {
   "cell_type": "code",
   "execution_count": 6,
   "id": "f10290fd-5169-4f63-8c29-ccd655433854",
   "metadata": {},
   "outputs": [
    {
     "data": {
      "text/plain": [
       "{1, 2, 3, 4, 5}"
      ]
     },
     "execution_count": 6,
     "metadata": {},
     "output_type": "execute_result"
    }
   ],
   "source": [
    "k"
   ]
  },
  {
   "cell_type": "code",
   "execution_count": 10,
   "id": "98fb927e-b572-4c73-904f-608c2f165bc0",
   "metadata": {},
   "outputs": [
    {
     "data": {
      "text/plain": [
       "[1, 2, 3, 1, 2, 3, 1, 2, 3]"
      ]
     },
     "execution_count": 10,
     "metadata": {},
     "output_type": "execute_result"
    }
   ],
   "source": [
    "a = [1, 2, 3]\n",
    "a * 3\n",
    "# a * a\n",
    "#a - a\n",
    "# a / a"
   ]
  },
  {
   "cell_type": "code",
   "execution_count": 11,
   "id": "86939cda-d7b2-4468-a81e-e1b94b3d58a8",
   "metadata": {},
   "outputs": [
    {
     "name": "stdout",
     "output_type": "stream",
     "text": [
      "[1, 2, 3]\n",
      "<class 'list'>\n",
      "['__add__', '__class__', '__class_getitem__', '__contains__', '__delattr__', '__delitem__', '__dir__', '__doc__', '__eq__', '__format__', '__ge__', '__getattribute__', '__getitem__', '__getstate__', '__gt__', '__hash__', '__iadd__', '__imul__', '__init__', '__init_subclass__', '__iter__', '__le__', '__len__', '__lt__', '__mul__', '__ne__', '__new__', '__reduce__', '__reduce_ex__', '__repr__', '__reversed__', '__rmul__', '__setattr__', '__setitem__', '__sizeof__', '__str__', '__subclasshook__', 'append', 'clear', 'copy', 'count', 'extend', 'index', 'insert', 'pop', 'remove', 'reverse', 'sort']\n"
     ]
    }
   ],
   "source": [
    "print(a)\n",
    "print(type(a))\n",
    "print(dir(a))"
   ]
  },
  {
   "cell_type": "code",
   "execution_count": 12,
   "id": "947f445a-5a45-4c22-962a-2285f909ea6e",
   "metadata": {},
   "outputs": [
    {
     "data": {
      "text/plain": [
       "[1, 2, 3, 10]"
      ]
     },
     "execution_count": 12,
     "metadata": {},
     "output_type": "execute_result"
    }
   ],
   "source": [
    "a\n",
    "a.append(10)\n",
    "a"
   ]
  },
  {
   "cell_type": "code",
   "execution_count": 13,
   "id": "e2b8a42b-ff0f-4286-a413-a6b50b8eced3",
   "metadata": {},
   "outputs": [
    {
     "data": {
      "text/plain": [
       "[]"
      ]
     },
     "execution_count": 13,
     "metadata": {},
     "output_type": "execute_result"
    }
   ],
   "source": [
    "a.clear()\n",
    "a"
   ]
  },
  {
   "cell_type": "code",
   "execution_count": 14,
   "id": "f1223e12-d7de-466d-ad0f-d17353d37087",
   "metadata": {},
   "outputs": [
    {
     "data": {
      "text/plain": [
       "[]"
      ]
     },
     "execution_count": 14,
     "metadata": {},
     "output_type": "execute_result"
    }
   ],
   "source": [
    "a.copy()"
   ]
  },
  {
   "cell_type": "code",
   "execution_count": 16,
   "id": "a00d2d50-ca75-4c91-bc43-7f5473e419bd",
   "metadata": {},
   "outputs": [
    {
     "data": {
      "text/plain": [
       "[10000, 2, 3]"
      ]
     },
     "execution_count": 16,
     "metadata": {},
     "output_type": "execute_result"
    }
   ],
   "source": [
    "a = [1,2,3]\n",
    "b = a\n",
    "c = b\n",
    "c[0] = 10000\n",
    "a"
   ]
  },
  {
   "cell_type": "code",
   "execution_count": 17,
   "id": "95a19b37-71dc-4c91-b443-6cfa4ad621eb",
   "metadata": {},
   "outputs": [
    {
     "data": {
      "text/plain": [
       "[10000, 2, 3]"
      ]
     },
     "execution_count": 17,
     "metadata": {},
     "output_type": "execute_result"
    }
   ],
   "source": [
    "b\n"
   ]
  },
  {
   "cell_type": "code",
   "execution_count": 18,
   "id": "0766b09e-000e-413b-bc76-782599c6e115",
   "metadata": {},
   "outputs": [
    {
     "data": {
      "text/plain": [
       "2"
      ]
     },
     "execution_count": 18,
     "metadata": {},
     "output_type": "execute_result"
    }
   ],
   "source": [
    "a = [1, 2, 3, 4, 1, 2, 3]\n",
    "a.count(1)"
   ]
  },
  {
   "cell_type": "code",
   "execution_count": 19,
   "id": "3c871684-c15c-4b1d-8e06-9e2fa2a53ac8",
   "metadata": {},
   "outputs": [
    {
     "data": {
      "text/plain": [
       "0"
      ]
     },
     "execution_count": 19,
     "metadata": {},
     "output_type": "execute_result"
    }
   ],
   "source": [
    "a = [1, 2, 3, 4, 1, 2, 3]\n",
    "a.count('1')"
   ]
  },
  {
   "cell_type": "code",
   "execution_count": 20,
   "id": "9524ec6d-7cd5-411f-9ae9-de83c5f06dd2",
   "metadata": {},
   "outputs": [
    {
     "data": {
      "text/plain": [
       "1"
      ]
     },
     "execution_count": 20,
     "metadata": {},
     "output_type": "execute_result"
    }
   ],
   "source": [
    "a = [1, 2, 3, 4, '1', 2, 3]\n",
    "a.count('1')"
   ]
  },
  {
   "cell_type": "code",
   "execution_count": 22,
   "id": "d997fad0-5463-4f5a-9cd1-0e2bae9337eb",
   "metadata": {},
   "outputs": [
    {
     "data": {
      "text/plain": [
       "[1, 2, 3, 4, '1', 2, 3, 1, 2, 1, 2, 3, 1, 2, 1, 2, 3]"
      ]
     },
     "execution_count": 22,
     "metadata": {},
     "output_type": "execute_result"
    }
   ],
   "source": [
    "a.extend([1,2,1,2,3])\n",
    "a"
   ]
  },
  {
   "cell_type": "code",
   "execution_count": 23,
   "id": "1a472de0-b357-4b0d-8ad1-44a7fe90ee89",
   "metadata": {},
   "outputs": [
    {
     "data": {
      "text/plain": [
       "[1, 2, 3, 4, '1', 2, 3, 1, 2, 1, 2, 3, 1, 2, 1, 2, 3, [1, 2, 3, 4, 5]]"
      ]
     },
     "execution_count": 23,
     "metadata": {},
     "output_type": "execute_result"
    }
   ],
   "source": [
    "a.append([1,2,3,4,5])\n",
    "a"
   ]
  },
  {
   "cell_type": "code",
   "execution_count": 24,
   "id": "419ff915-5207-472f-86aa-7ed82f13c86b",
   "metadata": {},
   "outputs": [
    {
     "data": {
      "text/plain": [
       "('index', 'insert', 'pop', 'remove', 'reverse', 'sort')"
      ]
     },
     "execution_count": 24,
     "metadata": {},
     "output_type": "execute_result"
    }
   ],
   "source": [
    "'index', 'insert', 'pop', 'remove', 'reverse', 'sort'"
   ]
  },
  {
   "cell_type": "code",
   "execution_count": 25,
   "id": "0ce93f10-a34f-448b-8cd8-26a9d0c15e6b",
   "metadata": {},
   "outputs": [
    {
     "data": {
      "text/plain": [
       "3"
      ]
     },
     "execution_count": 25,
     "metadata": {},
     "output_type": "execute_result"
    }
   ],
   "source": [
    "a = [10, 1 , 1, 11, 2, 23, 12]\n",
    "a.index(11)"
   ]
  },
  {
   "cell_type": "code",
   "execution_count": 26,
   "id": "119de7a1-be13-48af-96a5-2e214490b49a",
   "metadata": {},
   "outputs": [
    {
     "data": {
      "text/plain": [
       "11"
      ]
     },
     "execution_count": 26,
     "metadata": {},
     "output_type": "execute_result"
    }
   ],
   "source": [
    "a[a.index(11)]"
   ]
  },
  {
   "cell_type": "code",
   "execution_count": 27,
   "id": "4d295fa4-4e5d-429c-a83b-276e78f85969",
   "metadata": {},
   "outputs": [
    {
     "data": {
      "text/plain": [
       "[10, 1, 1]"
      ]
     },
     "execution_count": 27,
     "metadata": {},
     "output_type": "execute_result"
    }
   ],
   "source": [
    "a[:a.index(11)]"
   ]
  },
  {
   "cell_type": "code",
   "execution_count": 28,
   "id": "91751027-c9a5-4a82-8586-b4f5da5a677e",
   "metadata": {},
   "outputs": [
    {
     "data": {
      "text/plain": [
       "[10, 1, 100000000, 1, 11, 2, 23, 12]"
      ]
     },
     "execution_count": 28,
     "metadata": {},
     "output_type": "execute_result"
    }
   ],
   "source": [
    "a.insert(2, 100000000)\n",
    "a"
   ]
  },
  {
   "cell_type": "code",
   "execution_count": 29,
   "id": "892ce1f4-70ad-4a36-8268-5a9a25f71b63",
   "metadata": {},
   "outputs": [
    {
     "data": {
      "text/plain": [
       "12"
      ]
     },
     "execution_count": 29,
     "metadata": {},
     "output_type": "execute_result"
    }
   ],
   "source": [
    "a.pop()"
   ]
  },
  {
   "cell_type": "code",
   "execution_count": 30,
   "id": "4252b2b9-e6af-438a-8112-5bfef98d2300",
   "metadata": {},
   "outputs": [
    {
     "data": {
      "text/plain": [
       "[23, 2, 11, 1, 100000000, 1, 10]"
      ]
     },
     "execution_count": 30,
     "metadata": {},
     "output_type": "execute_result"
    }
   ],
   "source": [
    "a.reverse()\n",
    "a"
   ]
  },
  {
   "cell_type": "code",
   "execution_count": 31,
   "id": "355b5707-b0bc-4305-b9d5-7adafd7dc34f",
   "metadata": {},
   "outputs": [
    {
     "data": {
      "text/plain": [
       "[1, 1, 2, 10, 11, 23, 100000000]"
      ]
     },
     "execution_count": 31,
     "metadata": {},
     "output_type": "execute_result"
    }
   ],
   "source": [
    "a.sort()\n",
    "a"
   ]
  },
  {
   "cell_type": "code",
   "execution_count": 32,
   "id": "efcd4e2b-a548-48d0-935d-bce8c4064466",
   "metadata": {},
   "outputs": [
    {
     "data": {
      "text/plain": [
       "[1, 1, 2, 10, 11, 23, 100000000]"
      ]
     },
     "execution_count": 32,
     "metadata": {},
     "output_type": "execute_result"
    }
   ],
   "source": [
    "sorted(a)"
   ]
  },
  {
   "cell_type": "code",
   "execution_count": 33,
   "id": "9ec03c8a-ef20-4c96-8cf7-22dab4ffa233",
   "metadata": {},
   "outputs": [
    {
     "data": {
      "text/plain": [
       "3"
      ]
     },
     "execution_count": 33,
     "metadata": {},
     "output_type": "execute_result"
    }
   ],
   "source": [
    "3"
   ]
  },
  {
   "cell_type": "code",
   "execution_count": 34,
   "id": "e99c8fc8-0207-4e2f-b4fa-1aaafb31ccd3",
   "metadata": {},
   "outputs": [
    {
     "data": {
      "text/plain": [
       "[2]"
      ]
     },
     "execution_count": 34,
     "metadata": {},
     "output_type": "execute_result"
    }
   ],
   "source": [
    "[2]"
   ]
  },
  {
   "cell_type": "code",
   "execution_count": 35,
   "id": "37744912-594a-4789-bfb6-4a70979a94dd",
   "metadata": {},
   "outputs": [
    {
     "data": {
      "text/plain": [
       "[[2]]"
      ]
     },
     "execution_count": 35,
     "metadata": {},
     "output_type": "execute_result"
    }
   ],
   "source": [
    "[[2]]"
   ]
  },
  {
   "cell_type": "markdown",
   "id": "32fb0050-d386-4609-849d-65a468ac2549",
   "metadata": {},
   "source": [
    "## 다차원 리스트와 built in functions, range"
   ]
  },
  {
   "cell_type": "code",
   "execution_count": 36,
   "id": "1c3a6453-f8cc-4e68-8377-fa671f6e7d9f",
   "metadata": {},
   "outputs": [
    {
     "name": "stdout",
     "output_type": "stream",
     "text": [
      "<class 'list'>\n"
     ]
    },
    {
     "data": {
      "text/plain": [
       "'l'"
      ]
     },
     "execution_count": 36,
     "metadata": {},
     "output_type": "execute_result"
    }
   ],
   "source": [
    "a = list(list('leehojun'))\n",
    "print(type(a))\n",
    "a[0]"
   ]
  },
  {
   "cell_type": "code",
   "execution_count": 38,
   "id": "4698dd11-01d0-4291-9661-48ffc013b48b",
   "metadata": {},
   "outputs": [
    {
     "data": {
      "text/plain": [
       "'e'"
      ]
     },
     "execution_count": 38,
     "metadata": {},
     "output_type": "execute_result"
    }
   ],
   "source": [
    "a[0]\n",
    "a[1]\n",
    "a[2]"
   ]
  },
  {
   "cell_type": "code",
   "execution_count": 39,
   "id": "4ca62bc0-f99f-41c7-a606-9302d31b17db",
   "metadata": {},
   "outputs": [
    {
     "data": {
      "text/plain": [
       "'e'"
      ]
     },
     "execution_count": 39,
     "metadata": {},
     "output_type": "execute_result"
    }
   ],
   "source": [
    "a[0][0]\n",
    "a[1][0]\n",
    "a[2][0]"
   ]
  },
  {
   "cell_type": "code",
   "execution_count": 40,
   "id": "20ab3876-825e-4fb9-83a9-46a2eaddb0a2",
   "metadata": {},
   "outputs": [
    {
     "data": {
      "text/plain": [
       "'e'"
      ]
     },
     "execution_count": 40,
     "metadata": {},
     "output_type": "execute_result"
    }
   ],
   "source": [
    "a[2][0][:3]"
   ]
  },
  {
   "cell_type": "code",
   "execution_count": 41,
   "id": "08e256fe-af42-4bd6-bfa2-3a63d21c437b",
   "metadata": {},
   "outputs": [
    {
     "name": "stdout",
     "output_type": "stream",
     "text": [
      "[1, 2, 3]\n",
      "[11, 22, 33]\n",
      "[13, 2000, 30000]\n"
     ]
    }
   ],
   "source": [
    "a = [[1,2,3],[11,22,33],[13,2000,30000]]\n",
    "for i in a:\n",
    "    print(i)"
   ]
  },
  {
   "cell_type": "markdown",
   "id": "02f23e50",
   "metadata": {},
   "source": [
    "## 튜플\n",
    "\n",
    "1. 튜플은 순서가 있는 시퀀스형 자료형입니다.\n",
    "2. 참조값은 변경이 불가능합니다.\n",
    "3. 다른 자료형을 입력 할수 있으며, 리스트안에 리스트로 다차원의 리스트를 만드는 것도 가능합니다\n",
    "4. 값의 중복을 허락합니다."
   ]
  },
  {
   "cell_type": "code",
   "execution_count": 1,
   "id": "47ad4097-1500-4f50-b406-22b084283fec",
   "metadata": {},
   "outputs": [
    {
     "data": {
      "text/plain": [
       "(1, 2, 3)"
      ]
     },
     "execution_count": 1,
     "metadata": {},
     "output_type": "execute_result"
    }
   ],
   "source": [
    "t = (1,2,3,4,5,6)\n",
    "t[0]\n",
    "t[:3]"
   ]
  },
  {
   "cell_type": "code",
   "execution_count": 4,
   "id": "9fc09552",
   "metadata": {},
   "outputs": [
    {
     "data": {
      "text/plain": [
       "([10000, 2, 3], 5, 6, 7)"
      ]
     },
     "execution_count": 4,
     "metadata": {},
     "output_type": "execute_result"
    }
   ],
   "source": [
    "tt = ([1,2,3],5,6,7)\n",
    "tt[0][0] = 10000\n",
    "tt"
   ]
  },
  {
   "cell_type": "code",
   "execution_count": 5,
   "id": "9ae2d8ef",
   "metadata": {},
   "outputs": [
    {
     "data": {
      "text/plain": [
       "([10000, 2, 3], 5, 6, 7)"
      ]
     },
     "execution_count": 5,
     "metadata": {},
     "output_type": "execute_result"
    }
   ],
   "source": [
    "l = [1,2,3]\n",
    "tt = (l, 5, 6, 7)\n",
    "l[0] = 10000\n",
    "tt"
   ]
  },
  {
   "cell_type": "code",
   "execution_count": 6,
   "id": "5e0d50a7",
   "metadata": {},
   "outputs": [
    {
     "name": "stdout",
     "output_type": "stream",
     "text": [
      "(1, 2, 3, 4, 5, 6)\n",
      "<class 'tuple'>\n",
      "['__add__', '__class__', '__class_getitem__', '__contains__', '__delattr__', '__dir__', '__doc__', '__eq__', '__format__', '__ge__', '__getattribute__', '__getitem__', '__getnewargs__', '__getstate__', '__gt__', '__hash__', '__init__', '__init_subclass__', '__iter__', '__le__', '__len__', '__lt__', '__mul__', '__ne__', '__new__', '__reduce__', '__reduce_ex__', '__repr__', '__rmul__', '__setattr__', '__sizeof__', '__str__', '__subclasshook__', 'count', 'index']\n"
     ]
    }
   ],
   "source": [
    "print(t)\n",
    "print(type(t))\n",
    "print(dir(t))"
   ]
  },
  {
   "cell_type": "code",
   "execution_count": 9,
   "id": "57f19e95",
   "metadata": {},
   "outputs": [
    {
     "data": {
      "text/plain": [
       "1"
      ]
     },
     "execution_count": 9,
     "metadata": {},
     "output_type": "execute_result"
    }
   ],
   "source": [
    "t.count(1)"
   ]
  },
  {
   "cell_type": "code",
   "execution_count": 10,
   "id": "5f74b539",
   "metadata": {},
   "outputs": [
    {
     "data": {
      "text/plain": [
       "4"
      ]
     },
     "execution_count": 10,
     "metadata": {},
     "output_type": "execute_result"
    }
   ],
   "source": [
    "t.index(5)"
   ]
  },
  {
   "cell_type": "code",
   "execution_count": 16,
   "id": "4819bb23",
   "metadata": {},
   "outputs": [
    {
     "data": {
      "text/plain": [
       "(1,)"
      ]
     },
     "execution_count": 16,
     "metadata": {},
     "output_type": "execute_result"
    }
   ],
   "source": [
    "t = (1,2,3,4)\n",
    "t = tuple('leehojun')\n",
    "t = 1, 2, 3, 4, 5\n",
    "t = tuple()\n",
    "t = tuple(range(10))\n",
    "t = (1)\n",
    "t = (1,)\n",
    "type(t)\n",
    "t"
   ]
  },
  {
   "cell_type": "code",
   "execution_count": null,
   "id": "426c2772",
   "metadata": {},
   "outputs": [],
   "source": [
    "installed_package = [\n",
    "    'a',\n",
    "    'b',\n",
    "    'c',\n",
    "    'c',\n",
    "    'c',\n",
    "    'c',\n",
    "]"
   ]
  },
  {
   "cell_type": "code",
   "execution_count": 17,
   "id": "c2a31b85",
   "metadata": {},
   "outputs": [
    {
     "data": {
      "text/plain": [
       "(1, 2, 3)"
      ]
     },
     "execution_count": 17,
     "metadata": {},
     "output_type": "execute_result"
    }
   ],
   "source": [
    "l = [1,2,3]\n",
    "t = tuple(l)\n",
    "t"
   ]
  },
  {
   "cell_type": "code",
   "execution_count": 20,
   "id": "74e1ba0a",
   "metadata": {},
   "outputs": [],
   "source": [
    "student = ['leehojun', 10, '90점']\n",
    "# sum(student)"
   ]
  },
  {
   "cell_type": "markdown",
   "id": "fd7cc8e0",
   "metadata": {},
   "source": [
    "## 딕셔너리\n",
    "1. 딕셔너리는 순서가 없는 자료형입니다.\n",
    "2. 키와 값으로 이뤄져있습니다.\n",
    "3. 값에 변경이 가능합니다.\n",
    "4. 다른 자료형을 입력할 수 있습니다.\n",
    "5. 키의 중복은 허락하지 않고, 값의 중복을 허락합니다."
   ]
  },
  {
   "cell_type": "code",
   "execution_count": 21,
   "id": "53ee8593",
   "metadata": {},
   "outputs": [
    {
     "data": {
      "text/plain": [
       "{'one': '하나3', 'two': '둘', 'three': '셋'}"
      ]
     },
     "execution_count": 21,
     "metadata": {},
     "output_type": "execute_result"
    }
   ],
   "source": [
    "d = {'one': '하나', 'one':'하나2', 'one':'하나3', 'two':'둘', 'three':'셋'}\n",
    "d"
   ]
  },
  {
   "cell_type": "code",
   "execution_count": 22,
   "id": "eff508f7",
   "metadata": {},
   "outputs": [
    {
     "data": {
      "text/plain": [
       "dict"
      ]
     },
     "execution_count": 22,
     "metadata": {},
     "output_type": "execute_result"
    }
   ],
   "source": [
    "d = {}\n",
    "type(d)"
   ]
  },
  {
   "cell_type": "code",
   "execution_count": 23,
   "id": "a1dfbe5a",
   "metadata": {},
   "outputs": [
    {
     "data": {
      "text/plain": [
       "set"
      ]
     },
     "execution_count": 23,
     "metadata": {},
     "output_type": "execute_result"
    }
   ],
   "source": [
    "d = {10}\n",
    "type(d)"
   ]
  },
  {
   "cell_type": "code",
   "execution_count": 24,
   "id": "2bb668f2",
   "metadata": {},
   "outputs": [
    {
     "data": {
      "text/plain": [
       "{}"
      ]
     },
     "execution_count": 24,
     "metadata": {},
     "output_type": "execute_result"
    }
   ],
   "source": [
    "d = dict()\n",
    "d"
   ]
  },
  {
   "cell_type": "code",
   "execution_count": 27,
   "id": "212bb185",
   "metadata": {},
   "outputs": [
    {
     "data": {
      "text/plain": [
       "{'one': '하나', 'two': '둘'}"
      ]
     },
     "execution_count": 27,
     "metadata": {},
     "output_type": "execute_result"
    }
   ],
   "source": [
    "dict([('one', '하나'), ('two', '둘')])"
   ]
  },
  {
   "cell_type": "code",
   "execution_count": 28,
   "id": "261117b4",
   "metadata": {},
   "outputs": [
    {
     "data": {
      "text/plain": [
       "{'name': 'leehojun', 'age': 10}"
      ]
     },
     "execution_count": 28,
     "metadata": {},
     "output_type": "execute_result"
    }
   ],
   "source": [
    "dict(name='leehojun', age=10)"
   ]
  },
  {
   "cell_type": "code",
   "execution_count": 29,
   "id": "dfc047cd",
   "metadata": {},
   "outputs": [
    {
     "data": {
      "text/plain": [
       "<zip at 0x106528740>"
      ]
     },
     "execution_count": 29,
     "metadata": {},
     "output_type": "execute_result"
    }
   ],
   "source": [
    "zip('ABC', '123')"
   ]
  },
  {
   "cell_type": "code",
   "execution_count": 30,
   "id": "3ce92ea9",
   "metadata": {},
   "outputs": [
    {
     "data": {
      "text/plain": [
       "[('A', '1', 'a'), ('B', '2', 'b'), ('C', '3', 'c')]"
      ]
     },
     "execution_count": 30,
     "metadata": {},
     "output_type": "execute_result"
    }
   ],
   "source": [
    "list(zip('ABC', '123', 'abc'))"
   ]
  },
  {
   "cell_type": "code",
   "execution_count": 31,
   "id": "3a30538f",
   "metadata": {},
   "outputs": [
    {
     "data": {
      "text/plain": [
       "{'A': '1', 'B': '2', 'C': '3'}"
      ]
     },
     "execution_count": 31,
     "metadata": {},
     "output_type": "execute_result"
    }
   ],
   "source": [
    "dict(zip('ABC', '123'))"
   ]
  },
  {
   "cell_type": "code",
   "execution_count": 32,
   "id": "fd03c03a",
   "metadata": {},
   "outputs": [
    {
     "data": {
      "text/plain": [
       "True"
      ]
     },
     "execution_count": 32,
     "metadata": {},
     "output_type": "execute_result"
    }
   ],
   "source": [
    "d = {'one':'하나', 'two':'둘', 'three':'셋'}\n",
    "'하나' in d\n",
    "'one' in d"
   ]
  },
  {
   "cell_type": "code",
   "execution_count": 34,
   "id": "cfb0be78",
   "metadata": {},
   "outputs": [
    {
     "name": "stdout",
     "output_type": "stream",
     "text": [
      "{'one': '하나', 'two': '둘', 'three': '셋'}\n",
      "<class 'dict'>\n",
      "['__class__', '__class_getitem__', '__contains__', '__delattr__', '__delitem__', '__dir__', '__doc__', '__eq__', '__format__', '__ge__', '__getattribute__', '__getitem__', '__getstate__', '__gt__', '__hash__', '__init__', '__init_subclass__', '__ior__', '__iter__', '__le__', '__len__', '__lt__', '__ne__', '__new__', '__or__', '__reduce__', '__reduce_ex__', '__repr__', '__reversed__', '__ror__', '__setattr__', '__setitem__', '__sizeof__', '__str__', '__subclasshook__', 'clear', 'copy', 'fromkeys', 'get', 'items', 'keys', 'pop', 'popitem', 'setdefault', 'update', 'values']\n"
     ]
    }
   ],
   "source": [
    "print(d)\n",
    "print(type(d))\n",
    "print(dir(d))"
   ]
  },
  {
   "cell_type": "code",
   "execution_count": 35,
   "id": "96f4c37d",
   "metadata": {},
   "outputs": [
    {
     "data": {
      "text/plain": [
       "dict_items([('one', '하나'), ('two', '둘'), ('three', '셋')])"
      ]
     },
     "execution_count": 35,
     "metadata": {},
     "output_type": "execute_result"
    }
   ],
   "source": [
    "d.keys()\n",
    "d.values()\n",
    "d.items()"
   ]
  },
  {
   "cell_type": "code",
   "execution_count": 36,
   "id": "b7fe6e1c",
   "metadata": {},
   "outputs": [
    {
     "data": {
      "text/plain": [
       "'하나'"
      ]
     },
     "execution_count": 36,
     "metadata": {},
     "output_type": "execute_result"
    }
   ],
   "source": [
    "list(d.items())[0][0]\n",
    "list(d.items())[0][1]"
   ]
  },
  {
   "cell_type": "code",
   "execution_count": 37,
   "id": "a44da851",
   "metadata": {},
   "outputs": [
    {
     "name": "stdout",
     "output_type": "stream",
     "text": [
      "Wen\n"
     ]
    }
   ],
   "source": [
    "def switch(x):\n",
    "    return {1:'Mon',\n",
    "            2:'Tue',\n",
    "            3:'Wen',\n",
    "            4:'Thu',\n",
    "           }.get(x)\n",
    "print(switch(3))"
   ]
  },
  {
   "cell_type": "code",
   "execution_count": 38,
   "id": "49ac1899",
   "metadata": {},
   "outputs": [
    {
     "data": {
      "text/plain": [
       "{'l': None, 'e': None, 'h': None, 'o': None, 'j': None, 'u': None, 'n': None}"
      ]
     },
     "execution_count": 38,
     "metadata": {},
     "output_type": "execute_result"
    }
   ],
   "source": [
    "dict.fromkeys('leehojun')"
   ]
  },
  {
   "cell_type": "code",
   "execution_count": 39,
   "id": "c62c3e89",
   "metadata": {},
   "outputs": [
    {
     "data": {
      "text/plain": [
       "{'l': 100, 'e': 100, 'h': 100, 'o': 100, 'j': 100, 'u': 100, 'n': 100}"
      ]
     },
     "execution_count": 39,
     "metadata": {},
     "output_type": "execute_result"
    }
   ],
   "source": [
    "dict.fromkeys('leehojun', 100)"
   ]
  },
  {
   "cell_type": "code",
   "execution_count": 40,
   "id": "4caaf222",
   "metadata": {},
   "outputs": [
    {
     "data": {
      "text/plain": [
       "{'one': 1, 'two': 2, 'three': '셋'}"
      ]
     },
     "execution_count": 40,
     "metadata": {},
     "output_type": "execute_result"
    }
   ],
   "source": [
    "d = {'one':'하나', 'two':'둘', 'three':'셋'}\n",
    "d.update({'one':1, 'two':2})\n",
    "d"
   ]
  },
  {
   "cell_type": "code",
   "execution_count": 41,
   "id": "c16cff84",
   "metadata": {},
   "outputs": [
    {
     "data": {
      "text/plain": [
       "{'two': 2, 'three': '셋'}"
      ]
     },
     "execution_count": 41,
     "metadata": {},
     "output_type": "execute_result"
    }
   ],
   "source": [
    "del d['one']\n",
    "d"
   ]
  },
  {
   "cell_type": "code",
   "execution_count": 43,
   "id": "2560cfc7",
   "metadata": {},
   "outputs": [
    {
     "data": {
      "text/plain": [
       "[20]"
      ]
     },
     "execution_count": 43,
     "metadata": {},
     "output_type": "execute_result"
    }
   ],
   "source": [
    "l = [10, 20]\n",
    "del l[0]\n",
    "l"
   ]
  },
  {
   "cell_type": "code",
   "execution_count": 44,
   "id": "f3b9d27d",
   "metadata": {},
   "outputs": [
    {
     "data": {
      "text/plain": [
       "2"
      ]
     },
     "execution_count": 44,
     "metadata": {},
     "output_type": "execute_result"
    }
   ],
   "source": [
    "len(l)\n",
    "len(d)"
   ]
  },
  {
   "cell_type": "code",
   "execution_count": 46,
   "id": "b1d75046",
   "metadata": {},
   "outputs": [
    {
     "name": "stdout",
     "output_type": "stream",
     "text": [
      "two 2\n",
      "three 셋\n"
     ]
    }
   ],
   "source": [
    "for i in d:\n",
    "    print(i, d[i])"
   ]
  },
  {
   "cell_type": "code",
   "execution_count": 47,
   "id": "4c618209",
   "metadata": {},
   "outputs": [
    {
     "name": "stdout",
     "output_type": "stream",
     "text": [
      "two 2\n",
      "three 셋\n"
     ]
    }
   ],
   "source": [
    "for i, j in d.items():\n",
    "    print(i, j)"
   ]
  },
  {
   "cell_type": "code",
   "execution_count": 48,
   "id": "0fd3c6f0",
   "metadata": {},
   "outputs": [
    {
     "data": {
      "text/plain": [
       "dict_items([('two', 2), ('three', '셋')])"
      ]
     },
     "execution_count": 48,
     "metadata": {},
     "output_type": "execute_result"
    }
   ],
   "source": [
    "d.items()"
   ]
  },
  {
   "cell_type": "markdown",
   "id": "43ec0218",
   "metadata": {},
   "source": [
    "## 셋(set)\n",
    "- 순서가 없는 자료형입니다.\n",
    "- 값의 중복을 허락하지 않습니다.\n",
    "- 순회가능한 자료형입니다."
   ]
  },
  {
   "cell_type": "code",
   "execution_count": 50,
   "id": "382cf46b",
   "metadata": {},
   "outputs": [
    {
     "data": {
      "text/plain": [
       "{'1', '2', '3', '4', '5'}"
      ]
     },
     "execution_count": 50,
     "metadata": {},
     "output_type": "execute_result"
    }
   ],
   "source": [
    "s = set('1234555')\n",
    "s"
   ]
  },
  {
   "cell_type": "code",
   "execution_count": 53,
   "id": "bd020485",
   "metadata": {},
   "outputs": [
    {
     "data": {
      "text/plain": [
       "{0, 1, 2, 3, 4, 5, 6, 7, 8, 9}"
      ]
     },
     "execution_count": 53,
     "metadata": {},
     "output_type": "execute_result"
    }
   ],
   "source": [
    "s = {i for i in range(10)}\n",
    "s"
   ]
  },
  {
   "cell_type": "code",
   "execution_count": 54,
   "id": "d0c61018",
   "metadata": {},
   "outputs": [
    {
     "data": {
      "text/plain": [
       "{0, 1, 2, 3, 4}"
      ]
     },
     "execution_count": 54,
     "metadata": {},
     "output_type": "execute_result"
    }
   ],
   "source": [
    "ss = {i for i in range(5)}\n",
    "ss"
   ]
  },
  {
   "cell_type": "code",
   "execution_count": 55,
   "id": "c848744a",
   "metadata": {},
   "outputs": [
    {
     "data": {
      "text/plain": [
       "{5, 6, 7, 8, 9}"
      ]
     },
     "execution_count": 55,
     "metadata": {},
     "output_type": "execute_result"
    }
   ],
   "source": [
    "s - ss"
   ]
  },
  {
   "cell_type": "code",
   "execution_count": 57,
   "id": "68d94366",
   "metadata": {},
   "outputs": [
    {
     "ename": "TypeError",
     "evalue": "unsupported operand type(s) for +: 'set' and 'set'",
     "output_type": "error",
     "traceback": [
      "\u001b[0;31m---------------------------------------------------------------------------\u001b[0m",
      "\u001b[0;31mTypeError\u001b[0m                                 Traceback (most recent call last)",
      "Cell \u001b[0;32mIn[57], line 3\u001b[0m\n\u001b[1;32m      1\u001b[0m s \u001b[38;5;241m=\u001b[39m {\u001b[38;5;241m1\u001b[39m,\u001b[38;5;241m2\u001b[39m,\u001b[38;5;241m3\u001b[39m}\n\u001b[1;32m      2\u001b[0m ss \u001b[38;5;241m=\u001b[39m {\u001b[38;5;241m2\u001b[39m,\u001b[38;5;241m3\u001b[39m,\u001b[38;5;241m4\u001b[39m}\n\u001b[0;32m----> 3\u001b[0m s \u001b[38;5;241m+\u001b[39m ss\n",
      "\u001b[0;31mTypeError\u001b[0m: unsupported operand type(s) for +: 'set' and 'set'"
     ]
    }
   ],
   "source": [
    "s = {1,2,3}\n",
    "ss = {2,3,4}\n",
    "s + ss"
   ]
  },
  {
   "cell_type": "code",
   "execution_count": 58,
   "id": "03603f54",
   "metadata": {},
   "outputs": [
    {
     "ename": "TypeError",
     "evalue": "unsupported operand type(s) for *: 'set' and 'int'",
     "output_type": "error",
     "traceback": [
      "\u001b[0;31m---------------------------------------------------------------------------\u001b[0m",
      "\u001b[0;31mTypeError\u001b[0m                                 Traceback (most recent call last)",
      "Cell \u001b[0;32mIn[58], line 1\u001b[0m\n\u001b[0;32m----> 1\u001b[0m s \u001b[38;5;241m*\u001b[39m \u001b[38;5;241m2\u001b[39m\n",
      "\u001b[0;31mTypeError\u001b[0m: unsupported operand type(s) for *: 'set' and 'int'"
     ]
    }
   ],
   "source": [
    "s * 2"
   ]
  },
  {
   "cell_type": "code",
   "execution_count": 60,
   "id": "be1c83ce",
   "metadata": {},
   "outputs": [
    {
     "data": {
      "text/plain": [
       "{1, 2, 3, 4}"
      ]
     },
     "execution_count": 60,
     "metadata": {},
     "output_type": "execute_result"
    }
   ],
   "source": [
    "s = {1,2,3}\n",
    "ss = {2,3,4}\n",
    "s | ss"
   ]
  },
  {
   "cell_type": "code",
   "execution_count": 61,
   "id": "d6f13593",
   "metadata": {},
   "outputs": [
    {
     "data": {
      "text/plain": [
       "{2, 3}"
      ]
     },
     "execution_count": 61,
     "metadata": {},
     "output_type": "execute_result"
    }
   ],
   "source": [
    "s = {1,2,3}\n",
    "ss = {2,3,4}\n",
    "s & ss"
   ]
  },
  {
   "cell_type": "code",
   "execution_count": 62,
   "id": "1b204105",
   "metadata": {},
   "outputs": [
    {
     "name": "stdout",
     "output_type": "stream",
     "text": [
      "{1, 2, 3}\n",
      "<class 'set'>\n",
      "['__and__', '__class__', '__class_getitem__', '__contains__', '__delattr__', '__dir__', '__doc__', '__eq__', '__format__', '__ge__', '__getattribute__', '__getstate__', '__gt__', '__hash__', '__iand__', '__init__', '__init_subclass__', '__ior__', '__isub__', '__iter__', '__ixor__', '__le__', '__len__', '__lt__', '__ne__', '__new__', '__or__', '__rand__', '__reduce__', '__reduce_ex__', '__repr__', '__ror__', '__rsub__', '__rxor__', '__setattr__', '__sizeof__', '__str__', '__sub__', '__subclasshook__', '__xor__', 'add', 'clear', 'copy', 'difference', 'difference_update', 'discard', 'intersection', 'intersection_update', 'isdisjoint', 'issubset', 'issuperset', 'pop', 'remove', 'symmetric_difference', 'symmetric_difference_update', 'union', 'update']\n"
     ]
    }
   ],
   "source": [
    "print(s)\n",
    "print(type(s))\n",
    "print(dir(s))"
   ]
  },
  {
   "cell_type": "code",
   "execution_count": 64,
   "id": "29c16ad6",
   "metadata": {},
   "outputs": [
    {
     "data": {
      "text/plain": [
       "{1, 2, 3, 5, '6', '7', '8'}"
      ]
     },
     "execution_count": 64,
     "metadata": {},
     "output_type": "execute_result"
    }
   ],
   "source": [
    "s\n",
    "s.add(5)\n",
    "s.update('678')\n",
    "s"
   ]
  },
  {
   "cell_type": "code",
   "execution_count": 65,
   "id": "6382ec89",
   "metadata": {},
   "outputs": [
    {
     "data": {
      "text/plain": [
       "{1, 2, 3, 5, 6, 7, 8}"
      ]
     },
     "execution_count": 65,
     "metadata": {},
     "output_type": "execute_result"
    }
   ],
   "source": [
    "s = {1,2,3}\n",
    "s.add(5)\n",
    "s.update([6,7,8])\n",
    "s"
   ]
  },
  {
   "cell_type": "code",
   "execution_count": 66,
   "id": "4e3141dc",
   "metadata": {},
   "outputs": [
    {
     "data": {
      "text/plain": [
       "{1, 5, 6, 7, 8}"
      ]
     },
     "execution_count": 66,
     "metadata": {},
     "output_type": "execute_result"
    }
   ],
   "source": [
    "s.difference(ss)"
   ]
  },
  {
   "cell_type": "code",
   "execution_count": 67,
   "id": "01867bf0",
   "metadata": {},
   "outputs": [
    {
     "data": {
      "text/plain": [
       "{1, 5, 6, 7, 8}"
      ]
     },
     "execution_count": 67,
     "metadata": {},
     "output_type": "execute_result"
    }
   ],
   "source": [
    "s - ss"
   ]
  },
  {
   "cell_type": "code",
   "execution_count": 68,
   "id": "19f79c1c",
   "metadata": {},
   "outputs": [
    {
     "data": {
      "text/plain": [
       "{2, 3}"
      ]
     },
     "execution_count": 68,
     "metadata": {},
     "output_type": "execute_result"
    }
   ],
   "source": [
    "s.intersection(ss)"
   ]
  },
  {
   "cell_type": "code",
   "execution_count": 69,
   "id": "7a8d950e",
   "metadata": {},
   "outputs": [
    {
     "data": {
      "text/plain": [
       "{2, 3}"
      ]
     },
     "execution_count": 69,
     "metadata": {},
     "output_type": "execute_result"
    }
   ],
   "source": [
    "s & ss"
   ]
  },
  {
   "cell_type": "code",
   "execution_count": 70,
   "id": "b9b490c9",
   "metadata": {},
   "outputs": [
    {
     "data": {
      "text/plain": [
       "{1, 2, 3, 4, 5, 6, 7, 8}"
      ]
     },
     "execution_count": 70,
     "metadata": {},
     "output_type": "execute_result"
    }
   ],
   "source": [
    "s.union(ss)"
   ]
  },
  {
   "cell_type": "code",
   "execution_count": 71,
   "id": "4c1f39e0",
   "metadata": {},
   "outputs": [
    {
     "data": {
      "text/plain": [
       "{1, 2, 3, 5, 6, 7, 8}"
      ]
     },
     "execution_count": 71,
     "metadata": {},
     "output_type": "execute_result"
    }
   ],
   "source": [
    "s"
   ]
  },
  {
   "cell_type": "code",
   "execution_count": 72,
   "id": "cbcce747",
   "metadata": {},
   "outputs": [
    {
     "data": {
      "text/plain": [
       "{1, 2, 3, 4, 5, 6, 7, 8}"
      ]
     },
     "execution_count": 72,
     "metadata": {},
     "output_type": "execute_result"
    }
   ],
   "source": [
    "set.union(s, ss)"
   ]
  },
  {
   "cell_type": "code",
   "execution_count": 73,
   "id": "f4664331",
   "metadata": {},
   "outputs": [
    {
     "data": {
      "text/plain": [
       "{1, 2, 3, 4, 5, 6, 7, 8}"
      ]
     },
     "execution_count": 73,
     "metadata": {},
     "output_type": "execute_result"
    }
   ],
   "source": [
    "s | ss"
   ]
  },
  {
   "cell_type": "code",
   "execution_count": 74,
   "id": "9209b7d4",
   "metadata": {},
   "outputs": [
    {
     "data": {
      "text/plain": [
       "{2, 3, 5, 6, 7, 8}"
      ]
     },
     "execution_count": 74,
     "metadata": {},
     "output_type": "execute_result"
    }
   ],
   "source": [
    "s.remove(1)\n",
    "s"
   ]
  },
  {
   "cell_type": "code",
   "execution_count": 75,
   "id": "a0a6f007",
   "metadata": {},
   "outputs": [
    {
     "data": {
      "text/plain": [
       "{2, 3, 5, 6, 7, 8}"
      ]
     },
     "execution_count": 75,
     "metadata": {},
     "output_type": "execute_result"
    }
   ],
   "source": [
    "s.discard(1)\n",
    "s"
   ]
  },
  {
   "cell_type": "code",
   "execution_count": 76,
   "id": "8d4524a0",
   "metadata": {},
   "outputs": [
    {
     "data": {
      "text/plain": [
       "2"
      ]
     },
     "execution_count": 76,
     "metadata": {},
     "output_type": "execute_result"
    }
   ],
   "source": [
    "s.pop()\n"
   ]
  },
  {
   "cell_type": "code",
   "execution_count": 77,
   "id": "5a10eba0",
   "metadata": {},
   "outputs": [
    {
     "data": {
      "text/plain": [
       "{1, 2, 5, 6}"
      ]
     },
     "execution_count": 77,
     "metadata": {},
     "output_type": "execute_result"
    }
   ],
   "source": [
    "s = {1,2,3,4}\n",
    "ss = {3,4,5,6}\n",
    "s ^ ss"
   ]
  },
  {
   "cell_type": "code",
   "execution_count": 78,
   "id": "8ccc065a",
   "metadata": {},
   "outputs": [
    {
     "data": {
      "text/plain": [
       "{1, 2, 5, 6}"
      ]
     },
     "execution_count": 78,
     "metadata": {},
     "output_type": "execute_result"
    }
   ],
   "source": [
    "set.symmetric_difference(s, ss)"
   ]
  },
  {
   "cell_type": "code",
   "execution_count": 79,
   "id": "7720b7be",
   "metadata": {},
   "outputs": [
    {
     "data": {
      "text/plain": [
       "{1, 2, 5, 6}"
      ]
     },
     "execution_count": 79,
     "metadata": {},
     "output_type": "execute_result"
    }
   ],
   "source": [
    "s ^= ss\n",
    "s"
   ]
  },
  {
   "cell_type": "code",
   "execution_count": 82,
   "id": "c701de97",
   "metadata": {},
   "outputs": [
    {
     "data": {
      "text/plain": [
       "False"
      ]
     },
     "execution_count": 82,
     "metadata": {},
     "output_type": "execute_result"
    }
   ],
   "source": [
    "s = {1,2,3,4}\n",
    "ss = {3,4,5,6}\n",
    "s.issubset({1,2})\n"
   ]
  },
  {
   "cell_type": "code",
   "execution_count": 83,
   "id": "0e853546",
   "metadata": {},
   "outputs": [
    {
     "data": {
      "text/plain": [
       "True"
      ]
     },
     "execution_count": 83,
     "metadata": {},
     "output_type": "execute_result"
    }
   ],
   "source": [
    "s.issubset({1,2,3,4,5,6})"
   ]
  },
  {
   "cell_type": "code",
   "execution_count": 84,
   "id": "731ae496",
   "metadata": {},
   "outputs": [
    {
     "data": {
      "text/plain": [
       "True"
      ]
     },
     "execution_count": 84,
     "metadata": {},
     "output_type": "execute_result"
    }
   ],
   "source": [
    "s < {1,2,3,4,5,6}"
   ]
  },
  {
   "cell_type": "code",
   "execution_count": 85,
   "id": "d290bcd9",
   "metadata": {},
   "outputs": [
    {
     "data": {
      "text/plain": [
       "True"
      ]
     },
     "execution_count": 85,
     "metadata": {},
     "output_type": "execute_result"
    }
   ],
   "source": [
    "s <= {1,2,3,4,5,6}"
   ]
  },
  {
   "cell_type": "code",
   "execution_count": 86,
   "id": "f9ba4523",
   "metadata": {},
   "outputs": [
    {
     "data": {
      "text/plain": [
       "({1, 2, 3, 4}, {3, 4, 5, 6})"
      ]
     },
     "execution_count": 86,
     "metadata": {},
     "output_type": "execute_result"
    }
   ],
   "source": [
    "s, ss"
   ]
  },
  {
   "cell_type": "code",
   "execution_count": 89,
   "id": "2b1471d4",
   "metadata": {},
   "outputs": [],
   "source": [
    "s={1,2,3}\n",
    "ss={3,4,5}\n",
    "s.symmetric_difference_update(ss)"
   ]
  },
  {
   "cell_type": "code",
   "execution_count": 92,
   "id": "e6ce68c4",
   "metadata": {},
   "outputs": [
    {
     "data": {
      "text/plain": [
       "{1, 2, 4, 5}"
      ]
     },
     "execution_count": 92,
     "metadata": {},
     "output_type": "execute_result"
    }
   ],
   "source": [
    "s"
   ]
  },
  {
   "cell_type": "markdown",
   "id": "f2fd40a1",
   "metadata": {},
   "source": [
    "## 조건문"
   ]
  },
  {
   "cell_type": "code",
   "execution_count": 94,
   "id": "4c1ed500",
   "metadata": {},
   "outputs": [
    {
     "name": "stdout",
     "output_type": "stream",
     "text": [
      "hello\n",
      "one\n",
      "two\n"
     ]
    }
   ],
   "source": [
    "if True:\n",
    "    print('hello')\n",
    "print('one')\n",
    "\n",
    "if False:\n",
    "    print('world')\n",
    "print('two')"
   ]
  },
  {
   "cell_type": "code",
   "execution_count": 97,
   "id": "5bce6366",
   "metadata": {},
   "outputs": [
    {
     "name": "stdout",
     "output_type": "stream",
     "text": [
      "hello\n",
      "end\n"
     ]
    }
   ],
   "source": [
    "x = 10\n",
    "if x > 5:\n",
    "    print('hello')\n",
    "print('end')"
   ]
  },
  {
   "cell_type": "code",
   "execution_count": 98,
   "id": "64346cc2",
   "metadata": {},
   "outputs": [
    {
     "name": "stdout",
     "output_type": "stream",
     "text": [
      "hello\n"
     ]
    }
   ],
   "source": [
    "if x != 5:\n",
    "    print('hello')"
   ]
  },
  {
   "cell_type": "code",
   "execution_count": 99,
   "id": "4b0eb923",
   "metadata": {},
   "outputs": [
    {
     "name": "stdout",
     "output_type": "stream",
     "text": [
      "end\n"
     ]
    }
   ],
   "source": [
    "if 0:\n",
    "    print('hello')\n",
    "print('end')"
   ]
  },
  {
   "cell_type": "code",
   "execution_count": 100,
   "id": "0f0be9c9",
   "metadata": {},
   "outputs": [
    {
     "name": "stdout",
     "output_type": "stream",
     "text": [
      "hello\n",
      "end\n"
     ]
    }
   ],
   "source": [
    "if not '':\n",
    "    print('hello')\n",
    "\n",
    "print('end')"
   ]
  },
  {
   "cell_type": "code",
   "execution_count": 101,
   "id": "b27fd37a",
   "metadata": {},
   "outputs": [
    {
     "name": "stdout",
     "output_type": "stream",
     "text": [
      "end\n"
     ]
    }
   ],
   "source": [
    "if []:\n",
    "    print('hello')\n",
    "print('end')"
   ]
  },
  {
   "cell_type": "code",
   "execution_count": 103,
   "id": "45c1217b",
   "metadata": {},
   "outputs": [
    {
     "name": "stdout",
     "output_type": "stream",
     "text": [
      "mom : Im so happy\n",
      "hello world\n"
     ]
    }
   ],
   "source": [
    "score = 96\n",
    "money = 0\n",
    "\n",
    "if score >= 90:\n",
    "    print('mom : Im so happy')\n",
    "    money += 1000000\n",
    "    if score > 95:\n",
    "        print('hello world')\n",
    "        if score > 97:\n",
    "            print('hello!!')\n",
    "        elif money > 1000000:\n",
    "            print('...')\n",
    "            money -= 1000000\n",
    "elif score >= 80:\n",
    "    print('mom : im happy!')\n",
    "    money+=100000"
   ]
  },
  {
   "cell_type": "code",
   "execution_count": 104,
   "id": "0597a071",
   "metadata": {},
   "outputs": [
    {
     "name": "stdout",
     "output_type": "stream",
     "text": [
      "one\n",
      "three\n",
      "five\n"
     ]
    }
   ],
   "source": [
    "if True:\n",
    "    print('one')\n",
    "if False:\n",
    "    print('two')\n",
    "elif True:\n",
    "    print('three')\n",
    "else:\n",
    "    print('four')\n",
    "print('five')"
   ]
  },
  {
   "cell_type": "markdown",
   "id": "104e0937",
   "metadata": {},
   "source": [
    "## 반복문"
   ]
  },
  {
   "cell_type": "code",
   "execution_count": 105,
   "id": "02ca2b0f",
   "metadata": {},
   "outputs": [
    {
     "name": "stdout",
     "output_type": "stream",
     "text": [
      "10\n",
      "20\n",
      "30\n"
     ]
    }
   ],
   "source": [
    "for i in [10,20,30]:\n",
    "    print(i)"
   ]
  },
  {
   "cell_type": "code",
   "execution_count": 106,
   "id": "35b67dc5",
   "metadata": {},
   "outputs": [
    {
     "name": "stdout",
     "output_type": "stream",
     "text": [
      "10\n",
      "20\n",
      "30\n"
     ]
    }
   ],
   "source": [
    "for i in {10,20,30}:\n",
    "    print(i)"
   ]
  },
  {
   "cell_type": "code",
   "execution_count": 108,
   "id": "22a25c3d",
   "metadata": {},
   "outputs": [
    {
     "name": "stdout",
     "output_type": "stream",
     "text": [
      "one\n",
      "two\n"
     ]
    }
   ],
   "source": [
    "for i in {'one':1, 'two':2}:\n",
    "    print(i)"
   ]
  },
  {
   "cell_type": "code",
   "execution_count": 109,
   "id": "d0f7c8d0",
   "metadata": {},
   "outputs": [
    {
     "name": "stdout",
     "output_type": "stream",
     "text": [
      "0\n",
      "hello\n",
      "1\n",
      "hello\n",
      "2\n",
      "hello\n",
      "3\n",
      "hello\n",
      "4\n",
      "hello\n",
      "5\n",
      "hello\n",
      "6\n",
      "hello\n",
      "7\n",
      "hello\n",
      "8\n",
      "hello\n",
      "9\n",
      "hello\n"
     ]
    }
   ],
   "source": [
    "for i in range(10):\n",
    "    print(i)\n",
    "    print('hello')"
   ]
  },
  {
   "cell_type": "code",
   "execution_count": 110,
   "id": "1fd94a4c",
   "metadata": {},
   "outputs": [
    {
     "name": "stdout",
     "output_type": "stream",
     "text": [
      "(1, 2)\n",
      "(10, 20)\n",
      "(30, 40)\n"
     ]
    }
   ],
   "source": [
    "for i in [(1,2), (10,20), (30,40)]:\n",
    "    print(i)"
   ]
  },
  {
   "cell_type": "code",
   "execution_count": 112,
   "id": "e3309ed8",
   "metadata": {},
   "outputs": [
    {
     "data": {
      "text/plain": [
       "2500"
      ]
     },
     "execution_count": 112,
     "metadata": {},
     "output_type": "execute_result"
    }
   ],
   "source": [
    "s = 0\n",
    "for i in range(1, 101, 2):\n",
    "    s += i\n",
    "s"
   ]
  },
  {
   "cell_type": "code",
   "execution_count": 113,
   "id": "1b1db13f",
   "metadata": {},
   "outputs": [
    {
     "name": "stdout",
     "output_type": "stream",
     "text": [
      "2\n",
      "5\n",
      "8\n"
     ]
    }
   ],
   "source": [
    "list(range(2,10,3))\n",
    "for i in range(2,10,3):\n",
    "    print(i)"
   ]
  },
  {
   "cell_type": "code",
   "execution_count": 114,
   "id": "880b4881",
   "metadata": {},
   "outputs": [
    {
     "name": "stdout",
     "output_type": "stream",
     "text": [
      "2\n",
      "4\n",
      "6\n",
      "8\n",
      "10\n"
     ]
    }
   ],
   "source": [
    "for i in range(1,11):\n",
    "    if i % 2 == 0:\n",
    "        print(i)"
   ]
  },
  {
   "cell_type": "code",
   "execution_count": 115,
   "id": "be65d472",
   "metadata": {},
   "outputs": [
    {
     "name": "stdout",
     "output_type": "stream",
     "text": [
      "2 X 1 = 2\n",
      "2 X 2 = 4\n",
      "2 X 3 = 6\n",
      "2 X 4 = 8\n",
      "2 X 5 = 10\n",
      "2 X 6 = 12\n",
      "2 X 7 = 14\n",
      "2 X 8 = 16\n",
      "2 X 9 = 18\n"
     ]
    }
   ],
   "source": [
    "for i in range(1,10):\n",
    "    print(f'{2} X {i} = { 2* i}')"
   ]
  },
  {
   "cell_type": "code",
   "execution_count": 116,
   "id": "937097ad",
   "metadata": {},
   "outputs": [
    {
     "name": "stdout",
     "output_type": "stream",
     "text": [
      "2 X 1 = 2\n",
      "---------\n",
      "2 X 2 = 4\n",
      "---------\n",
      "2 X 3 = 6\n",
      "---------\n",
      "2 X 4 = 8\n",
      "2 X 5 = 10\n",
      "2 X 6 = 12\n",
      "2 X 7 = 14\n",
      "2 X 8 = 16\n",
      "2 X 9 = 18\n",
      "3 X 1 = 3\n",
      "---------\n",
      "3 X 2 = 6\n",
      "---------\n",
      "3 X 3 = 9\n",
      "---------\n",
      "3 X 4 = 12\n",
      "3 X 5 = 15\n",
      "3 X 6 = 18\n",
      "3 X 7 = 21\n",
      "3 X 8 = 24\n",
      "3 X 9 = 27\n",
      "4 X 1 = 4\n",
      "---------\n",
      "4 X 2 = 8\n",
      "---------\n",
      "4 X 3 = 12\n",
      "---------\n",
      "4 X 4 = 16\n",
      "4 X 5 = 20\n",
      "4 X 6 = 24\n",
      "4 X 7 = 28\n",
      "4 X 8 = 32\n",
      "4 X 9 = 36\n"
     ]
    }
   ],
   "source": [
    "for i in range(2,5):\n",
    "    for j in range(1, 10):\n",
    "        print(f'{i} X {j} = {i * j}')\n",
    "        if j > 3:\n",
    "            continue\n",
    "        print('---------')"
   ]
  },
  {
   "cell_type": "code",
   "execution_count": 117,
   "id": "477fcd4d",
   "metadata": {},
   "outputs": [],
   "source": [
    "l = [i for i in range(10)]\n",
    "l = []\n",
    "for i in range(10):\n",
    "    l.append(i)\n",
    "    \n",
    "l = [i for i in range(10)]"
   ]
  },
  {
   "cell_type": "code",
   "execution_count": 118,
   "id": "f886bb35",
   "metadata": {},
   "outputs": [
    {
     "name": "stdout",
     "output_type": "stream",
     "text": [
      "0\n",
      "1\n",
      "2\n",
      "3\n",
      "4\n",
      "5\n",
      "6\n",
      "7\n",
      "8\n",
      "9\n",
      "else\n",
      "end\n"
     ]
    }
   ],
   "source": [
    "for i in range(10):\n",
    "    print(i)\n",
    "else:\n",
    "    print('else')\n",
    "print('end')"
   ]
  },
  {
   "cell_type": "code",
   "execution_count": 122,
   "id": "22396bf0",
   "metadata": {},
   "outputs": [
    {
     "name": "stdout",
     "output_type": "stream",
     "text": [
      "2 X 1 = 2\n",
      "2 X 2 = 4\n",
      "2 X 3 = 6\n",
      "2 X 4 = 8\n",
      "2 X 5 = 10\n",
      "2 X 6 = 12\n",
      "2 X 7 = 14\n",
      "2 X 8 = 16\n",
      "2 X 9 = 18\n",
      "3 X 1 = 3\n",
      "3 X 2 = 6\n",
      "3 X 3 = 9\n",
      "3 X 4 = 12\n",
      "3 X 5 = 15\n",
      "3 X 6 = 18\n",
      "3 X 7 = 21\n",
      "3 X 8 = 24\n",
      "3 X 9 = 27\n",
      "4 X 1 = 4\n",
      "4 X 2 = 8\n",
      "4 X 3 = 12\n",
      "4 X 4 = 16\n",
      "4 X 5 = 20\n",
      "4 X 6 = 24\n",
      "4 X 7 = 28\n",
      "4 X 8 = 32\n",
      "4 X 9 = 36\n",
      "5 X 1 = 5\n",
      "5 X 2 = 10\n",
      "5 X 3 = 15\n",
      "5 X 4 = 20\n",
      "5 X 5 = 25\n",
      "5 X 6 = 30\n",
      "5 X 7 = 35\n",
      "5 X 8 = 40\n",
      "5 X 9 = 45\n",
      "6 X 1 = 6\n",
      "6 X 2 = 12\n",
      "6 X 3 = 18\n",
      "6 X 4 = 24\n",
      "6 X 5 = 30\n",
      "6 X 6 = 36\n",
      "6 X 7 = 42\n",
      "6 X 8 = 48\n",
      "6 X 9 = 54\n",
      "7 X 1 = 7\n",
      "7 X 2 = 14\n",
      "7 X 3 = 21\n",
      "7 X 4 = 28\n",
      "7 X 5 = 35\n",
      "7 X 6 = 42\n",
      "7 X 7 = 49\n",
      "7 X 8 = 56\n",
      "7 X 9 = 63\n",
      "8 X 1 = 8\n",
      "8 X 2 = 16\n",
      "8 X 3 = 24\n",
      "8 X 4 = 32\n",
      "8 X 5 = 40\n",
      "8 X 6 = 48\n",
      "8 X 7 = 56\n",
      "8 X 8 = 64\n",
      "8 X 9 = 72\n",
      "9 X 1 = 9\n",
      "9 X 2 = 18\n",
      "9 X 3 = 27\n",
      "9 X 4 = 36\n",
      "9 X 5 = 45\n",
      "9 X 6 = 54\n",
      "9 X 7 = 63\n",
      "9 X 8 = 72\n",
      "9 X 9 = 81\n"
     ]
    }
   ],
   "source": [
    "i = 2\n",
    "j = 1\n",
    "\n",
    "while i < 10:\n",
    "    while j < 10:\n",
    "        print(f'{i} X {j} = {i*j}')\n",
    "        j += 1\n",
    "    i += 1\n",
    "    j = 1"
   ]
  },
  {
   "cell_type": "code",
   "execution_count": null,
   "id": "2f772b9a",
   "metadata": {},
   "outputs": [],
   "source": []
  },
  {
   "cell_type": "code",
   "execution_count": null,
   "id": "c4d41c05",
   "metadata": {},
   "outputs": [],
   "source": []
  },
  {
   "cell_type": "code",
   "execution_count": null,
   "id": "596e9466",
   "metadata": {},
   "outputs": [],
   "source": []
  }
 ],
 "metadata": {
  "kernelspec": {
   "display_name": "Python 3 (ipykernel)",
   "language": "python",
   "name": "python3"
  },
  "language_info": {
   "codemirror_mode": {
    "name": "ipython",
    "version": 3
   },
   "file_extension": ".py",
   "mimetype": "text/x-python",
   "name": "python",
   "nbconvert_exporter": "python",
   "pygments_lexer": "ipython3",
   "version": "3.11.5"
  }
 },
 "nbformat": 4,
 "nbformat_minor": 5
}
