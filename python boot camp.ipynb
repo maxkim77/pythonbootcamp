{
 "cells": [
  {
   "cell_type": "code",
   "execution_count": 2,
   "id": "5e324570",
   "metadata": {},
   "outputs": [
    {
     "data": {
      "text/plain": [
       "'\\nhello world\\nhello world\\n'"
      ]
     },
     "execution_count": 2,
     "metadata": {},
     "output_type": "execute_result"
    }
   ],
   "source": [
    "#hello world\n",
    "'''\n",
    "hello world\n",
    "hello world\n",
    "'''\n",
    "\n",
    "\"\"\"\n",
    "hello world\n",
    "hello world\n",
    "\"\"\"\n"
   ]
  },
  {
   "cell_type": "code",
   "execution_count": 4,
   "id": "4cb1b5ea",
   "metadata": {},
   "outputs": [
    {
     "ename": "NameError",
     "evalue": "name 'OxA1' is not defined",
     "output_type": "error",
     "traceback": [
      "\u001b[0;31m---------------------------------------------------------------------------\u001b[0m",
      "\u001b[0;31mNameError\u001b[0m                                 Traceback (most recent call last)",
      "Cell \u001b[0;32mIn[4], line 11\u001b[0m\n\u001b[1;32m      9\u001b[0m i \u001b[38;5;241m=\u001b[39m \u001b[38;5;241m0b110\u001b[39m\n\u001b[1;32m     10\u001b[0m j \u001b[38;5;241m=\u001b[39m \u001b[38;5;241m0o11\u001b[39m\n\u001b[0;32m---> 11\u001b[0m k \u001b[38;5;241m=\u001b[39m OxA1\n\u001b[1;32m     13\u001b[0m a, \u001b[38;5;28mtype\u001b[39m(a), \u001b[38;5;28mdir\u001b[39m(a)\n",
      "\u001b[0;31mNameError\u001b[0m: name 'OxA1' is not defined"
     ]
    }
   ],
   "source": [
    "a = 10\n",
    "b = 10.1\n",
    "c = -1\n",
    "d = True\n",
    "e = '10'\n",
    "f = 'lee'\n",
    "g = 'hojun'\n",
    "h = 10 + 2j\n",
    "i = 0b110\n",
    "j = 0o11\n",
    "k = OxA1\n",
    "\n",
    "a, type(a), dir(a)"
   ]
  },
  {
   "cell_type": "code",
   "execution_count": 5,
   "id": "2c073d1b",
   "metadata": {},
   "outputs": [
    {
     "ename": "SyntaxError",
     "evalue": "invalid syntax (1319807992.py, line 6)",
     "output_type": "error",
     "traceback": [
      "\u001b[0;36m  Cell \u001b[0;32mIn[5], line 6\u001b[0;36m\u001b[0m\n\u001b[0;31m    i, type(i), dir{i}\u001b[0m\n\u001b[0m                   ^\u001b[0m\n\u001b[0;31mSyntaxError\u001b[0m\u001b[0;31m:\u001b[0m invalid syntax\n"
     ]
    }
   ],
   "source": [
    "l = [10, 20, 30]\n",
    "m = (10, 20, 30)\n",
    "n = {10, 10, 20}\n",
    "o = {'key' : 'value'}\n",
    "\n",
    "i, type(i), dir{i}"
   ]
  },
  {
   "cell_type": "markdown",
   "id": "f6f679ae",
   "metadata": {},
   "source": [
    "입력과 출력\n"
   ]
  },
  {
   "cell_type": "code",
   "execution_count": 6,
   "id": "8e8a233d",
   "metadata": {},
   "outputs": [
    {
     "name": "stdout",
     "output_type": "stream",
     "text": [
      "입력하세요 : 10\n"
     ]
    },
    {
     "data": {
      "text/plain": [
       "20"
      ]
     },
     "execution_count": 6,
     "metadata": {},
     "output_type": "execute_result"
    }
   ],
   "source": [
    "x = input('입력하세요 : ')\n",
    "int(x) + int(x)"
   ]
  },
  {
   "cell_type": "markdown",
   "id": "a6857434",
   "metadata": {},
   "source": [
    "# 자주쓰는 built in function"
   ]
  },
  {
   "cell_type": "markdown",
   "id": "4d7ed9c8",
   "metadata": {},
   "source": [
    "- int()\n",
    "- float()\n",
    "- bool()\n",
    "- str()\n",
    "- tuple()\n",
    "- list()\n",
    "- dict()\n",
    "- set()"
   ]
  },
  {
   "cell_type": "code",
   "execution_count": 7,
   "id": "98c88bea",
   "metadata": {},
   "outputs": [
    {
     "name": "stdout",
     "output_type": "stream",
     "text": [
      "10 10.1 -1\n",
      "10!!10.1!!-1\n",
      "10:59:59\n",
      "10 10.1 -1!!10 10.1 -1!!"
     ]
    }
   ],
   "source": [
    "print(a,b,c)\n",
    "print(a,b,c, sep = '!!')\n",
    "print(10,59, 59, sep= ':')\n",
    "print(a,b,c, end = '!!')\n",
    "print(a,b,c, end = '!!')"
   ]
  },
  {
   "cell_type": "code",
   "execution_count": 8,
   "id": "b599fdbe",
   "metadata": {},
   "outputs": [
    {
     "name": "stdout",
     "output_type": "stream",
     "text": [
      "hi world\n",
      "10 X 10.1 = 101.0\n"
     ]
    }
   ],
   "source": [
    "hello = 'hi'\n",
    "print(f'{hello} world')\n",
    "print(f'{a} X {b} = {a*b}')"
   ]
  },
  {
   "cell_type": "code",
   "execution_count": 9,
   "id": "c879b065",
   "metadata": {},
   "outputs": [
    {
     "name": "stdout",
     "output_type": "stream",
     "text": [
      "안녕하세요. 제이름 은 이호준 입니다. 제나이는 10 살입니다.\n"
     ]
    }
   ],
   "source": [
    "이름 = '이호준'\n",
    "나이 = 10\n",
    "print('안녕하세요. 제이름 은', 이름, '입니다. 제나이는', 나이, '살입니다.')"
   ]
  },
  {
   "cell_type": "markdown",
   "id": "19480d48",
   "metadata": {},
   "source": [
    "# 숫자 자료형"
   ]
  },
  {
   "cell_type": "markdown",
   "id": "0008829d",
   "metadata": {},
   "source": [
    "- 최댓값, 최솟값이 없고, 자동으로 메모리할당\n",
    "- int, float, complex가 있음"
   ]
  },
  {
   "cell_type": "code",
   "execution_count": 10,
   "id": "71a4706b",
   "metadata": {},
   "outputs": [
    {
     "data": {
      "text/plain": [
       "(int, int)"
      ]
     },
     "execution_count": 10,
     "metadata": {},
     "output_type": "execute_result"
    }
   ],
   "source": [
    "import sys\n",
    "최댓값_변수 = sys.maxsize\n",
    "최댓값_변수2 = 최댓값_변수 + i\n",
    "\n",
    "type(최댓값_변수), type(최댓값_변수2)"
   ]
  },
  {
   "cell_type": "code",
   "execution_count": 11,
   "id": "0a2488c8",
   "metadata": {},
   "outputs": [
    {
     "data": {
      "text/plain": [
       "9223372036854775807"
      ]
     },
     "execution_count": 11,
     "metadata": {},
     "output_type": "execute_result"
    }
   ],
   "source": [
    "최댓값_변수"
   ]
  },
  {
   "cell_type": "code",
   "execution_count": 12,
   "id": "b4af3d43",
   "metadata": {},
   "outputs": [
    {
     "data": {
      "text/plain": [
       "4306068048"
      ]
     },
     "execution_count": 12,
     "metadata": {},
     "output_type": "execute_result"
    }
   ],
   "source": [
    "id(최댓값_변수)"
   ]
  },
  {
   "cell_type": "code",
   "execution_count": 13,
   "id": "cb2ba86f",
   "metadata": {},
   "outputs": [
    {
     "data": {
      "text/plain": [
       "False"
      ]
     },
     "execution_count": 13,
     "metadata": {},
     "output_type": "execute_result"
    }
   ],
   "source": [
    "a == b"
   ]
  },
  {
   "cell_type": "code",
   "execution_count": 14,
   "id": "27665d50",
   "metadata": {},
   "outputs": [
    {
     "data": {
      "text/plain": [
       "False"
      ]
     },
     "execution_count": 14,
     "metadata": {},
     "output_type": "execute_result"
    }
   ],
   "source": [
    "a is b"
   ]
  },
  {
   "cell_type": "code",
   "execution_count": 15,
   "id": "0d1464f5",
   "metadata": {},
   "outputs": [],
   "source": [
    "a = 10\n",
    "b = 0b110\n",
    "c = 0o11\n",
    "d = 0x1A\n",
    "e = 10.1\n",
    "f = 1 + 2j"
   ]
  },
  {
   "cell_type": "code",
   "execution_count": 16,
   "id": "1b6e1557",
   "metadata": {},
   "outputs": [
    {
     "data": {
      "text/plain": [
       "(int, int, int, int, float, complex)"
      ]
     },
     "execution_count": 16,
     "metadata": {},
     "output_type": "execute_result"
    }
   ],
   "source": [
    "type(a), type(b), type(c), type(d), type(e), type(f)"
   ]
  },
  {
   "cell_type": "code",
   "execution_count": 17,
   "id": "77f4724e",
   "metadata": {},
   "outputs": [
    {
     "data": {
      "text/plain": [
       "(10, 6, 9, 26, 10.1, (1+2j))"
      ]
     },
     "execution_count": 17,
     "metadata": {},
     "output_type": "execute_result"
    }
   ],
   "source": [
    "a, b, c, d, e, f"
   ]
  },
  {
   "cell_type": "code",
   "execution_count": 18,
   "id": "f3ecee6b",
   "metadata": {},
   "outputs": [
    {
     "data": {
      "text/plain": [
       "('0b110', '0o11', '0x1a')"
      ]
     },
     "execution_count": 18,
     "metadata": {},
     "output_type": "execute_result"
    }
   ],
   "source": [
    "bin(b), oct(c), hex(d)"
   ]
  },
  {
   "cell_type": "code",
   "execution_count": 19,
   "id": "c65a4ef8",
   "metadata": {},
   "outputs": [
    {
     "data": {
      "text/plain": [
       "(str, str, str)"
      ]
     },
     "execution_count": 19,
     "metadata": {},
     "output_type": "execute_result"
    }
   ],
   "source": [
    "type(bin(b)), type(oct(c)), type(hex(d))"
   ]
  },
  {
   "cell_type": "code",
   "execution_count": 20,
   "id": "bc1f8f1a",
   "metadata": {},
   "outputs": [
    {
     "data": {
      "text/plain": [
       "'110'"
      ]
     },
     "execution_count": 20,
     "metadata": {},
     "output_type": "execute_result"
    }
   ],
   "source": [
    "int(bin(b),2), int(oct(c), 8), int(hex(d), 16)\n",
    "bin(b)[2:]"
   ]
  },
  {
   "cell_type": "code",
   "execution_count": 21,
   "id": "d9de0573",
   "metadata": {},
   "outputs": [
    {
     "data": {
      "text/plain": [
       "['__abs__',\n",
       " '__add__',\n",
       " '__and__',\n",
       " '__bool__',\n",
       " '__ceil__',\n",
       " '__class__',\n",
       " '__delattr__',\n",
       " '__dir__',\n",
       " '__divmod__',\n",
       " '__doc__',\n",
       " '__eq__',\n",
       " '__float__',\n",
       " '__floor__',\n",
       " '__floordiv__',\n",
       " '__format__',\n",
       " '__ge__',\n",
       " '__getattribute__',\n",
       " '__getnewargs__',\n",
       " '__getstate__',\n",
       " '__gt__',\n",
       " '__hash__',\n",
       " '__index__',\n",
       " '__init__',\n",
       " '__init_subclass__',\n",
       " '__int__',\n",
       " '__invert__',\n",
       " '__le__',\n",
       " '__lshift__',\n",
       " '__lt__',\n",
       " '__mod__',\n",
       " '__mul__',\n",
       " '__ne__',\n",
       " '__neg__',\n",
       " '__new__',\n",
       " '__or__',\n",
       " '__pos__',\n",
       " '__pow__',\n",
       " '__radd__',\n",
       " '__rand__',\n",
       " '__rdivmod__',\n",
       " '__reduce__',\n",
       " '__reduce_ex__',\n",
       " '__repr__',\n",
       " '__rfloordiv__',\n",
       " '__rlshift__',\n",
       " '__rmod__',\n",
       " '__rmul__',\n",
       " '__ror__',\n",
       " '__round__',\n",
       " '__rpow__',\n",
       " '__rrshift__',\n",
       " '__rshift__',\n",
       " '__rsub__',\n",
       " '__rtruediv__',\n",
       " '__rxor__',\n",
       " '__setattr__',\n",
       " '__sizeof__',\n",
       " '__str__',\n",
       " '__sub__',\n",
       " '__subclasshook__',\n",
       " '__truediv__',\n",
       " '__trunc__',\n",
       " '__xor__',\n",
       " 'as_integer_ratio',\n",
       " 'bit_count',\n",
       " 'bit_length',\n",
       " 'conjugate',\n",
       " 'denominator',\n",
       " 'from_bytes',\n",
       " 'imag',\n",
       " 'numerator',\n",
       " 'real',\n",
       " 'to_bytes']"
      ]
     },
     "execution_count": 21,
     "metadata": {},
     "output_type": "execute_result"
    }
   ],
   "source": [
    "dir(b)"
   ]
  },
  {
   "cell_type": "code",
   "execution_count": 22,
   "id": "02efff19",
   "metadata": {},
   "outputs": [
    {
     "data": {
      "text/plain": [
       "3.3"
      ]
     },
     "execution_count": 22,
     "metadata": {},
     "output_type": "execute_result"
    }
   ],
   "source": [
    "11 * 0.3"
   ]
  },
  {
   "cell_type": "markdown",
   "id": "c5ba0c83",
   "metadata": {},
   "source": [
    "# 문자 자료형"
   ]
  },
  {
   "cell_type": "markdown",
   "id": "8122a417",
   "metadata": {},
   "source": [
    "- 순서가 있는 시퀀스형 자료형\n",
    "- 작은 따옴표나 큰 따옴표로 묶을 수 있으며, 주석처럼 3개를 감싸는 것도 가능함\n",
    "- 작은 따옴표안에 큰 따옴표를 큰따옴표안에 작은 따옴표 사용 가능\n",
    "- 이스케이프 문자 사용가능"
   ]
  },
  {
   "cell_type": "code",
   "execution_count": 23,
   "id": "dc732de0",
   "metadata": {},
   "outputs": [],
   "source": [
    "s = 'paullab CEO leehojun'"
   ]
  },
  {
   "cell_type": "code",
   "execution_count": 24,
   "id": "8ac630ca",
   "metadata": {},
   "outputs": [
    {
     "name": "stdout",
     "output_type": "stream",
     "text": [
      "paullab CEO leehojun\n"
     ]
    }
   ],
   "source": [
    "print(s)"
   ]
  },
  {
   "cell_type": "code",
   "execution_count": 25,
   "id": "0abbe8ed",
   "metadata": {},
   "outputs": [
    {
     "name": "stdout",
     "output_type": "stream",
     "text": [
      "<class 'str'>\n",
      "['__add__', '__class__', '__contains__', '__delattr__', '__dir__', '__doc__', '__eq__', '__format__', '__ge__', '__getattribute__', '__getitem__', '__getnewargs__', '__getstate__', '__gt__', '__hash__', '__init__', '__init_subclass__', '__iter__', '__le__', '__len__', '__lt__', '__mod__', '__mul__', '__ne__', '__new__', '__reduce__', '__reduce_ex__', '__repr__', '__rmod__', '__rmul__', '__setattr__', '__sizeof__', '__str__', '__subclasshook__', 'capitalize', 'casefold', 'center', 'count', 'encode', 'endswith', 'expandtabs', 'find', 'format', 'format_map', 'index', 'isalnum', 'isalpha', 'isascii', 'isdecimal', 'isdigit', 'isidentifier', 'islower', 'isnumeric', 'isprintable', 'isspace', 'istitle', 'isupper', 'join', 'ljust', 'lower', 'lstrip', 'maketrans', 'partition', 'removeprefix', 'removesuffix', 'replace', 'rfind', 'rindex', 'rjust', 'rpartition', 'rsplit', 'rstrip', 'split', 'splitlines', 'startswith', 'strip', 'swapcase', 'title', 'translate', 'upper', 'zfill']\n"
     ]
    }
   ],
   "source": [
    "print(type(s))\n",
    "print(dir(s))"
   ]
  },
  {
   "cell_type": "code",
   "execution_count": 26,
   "id": "7954fe06",
   "metadata": {},
   "outputs": [
    {
     "data": {
      "text/plain": [
       "'paullab CEO leehojun'"
      ]
     },
     "execution_count": 26,
     "metadata": {},
     "output_type": "execute_result"
    }
   ],
   "source": [
    "s"
   ]
  },
  {
   "cell_type": "code",
   "execution_count": 28,
   "id": "ab88d19c",
   "metadata": {},
   "outputs": [
    {
     "data": {
      "text/plain": [
       "'paul'"
      ]
     },
     "execution_count": 28,
     "metadata": {},
     "output_type": "execute_result"
    }
   ],
   "source": [
    "s[:4]"
   ]
  },
  {
   "cell_type": "markdown",
   "id": "7180fd4c",
   "metadata": {},
   "source": [
    "# 이스케이프 문자\n",
    " - \\n: 엔터(개행)\n",
    " - \\t: 탭\n",
    " - ': 작은 따욤\n",
    " - \": 큰 따옴표\n",
    " - \\b: 백스페이스\n",
    " - \\\\: 역슬러쉬 표현"
   ]
  },
  {
   "cell_type": "code",
   "execution_count": 30,
   "id": "eb1af2c8",
   "metadata": {},
   "outputs": [
    {
     "data": {
      "text/plain": [
       "'PAULLAUUB'"
      ]
     },
     "execution_count": 30,
     "metadata": {},
     "output_type": "execute_result"
    }
   ],
   "source": [
    "s = 'paullauub'\n",
    "s.lower()\n",
    "s.upper()"
   ]
  },
  {
   "cell_type": "code",
   "execution_count": 31,
   "id": "f2fb9be1",
   "metadata": {},
   "outputs": [
    {
     "data": {
      "text/plain": [
       "0"
      ]
     },
     "execution_count": 31,
     "metadata": {},
     "output_type": "execute_result"
    }
   ],
   "source": [
    "s.find('paul')"
   ]
  },
  {
   "cell_type": "code",
   "execution_count": 32,
   "id": "7e990cbd",
   "metadata": {},
   "outputs": [
    {
     "data": {
      "text/plain": [
       "2"
      ]
     },
     "execution_count": 32,
     "metadata": {},
     "output_type": "execute_result"
    }
   ],
   "source": [
    "s.count('l')"
   ]
  },
  {
   "cell_type": "markdown",
   "id": "f5ff42e8",
   "metadata": {},
   "source": [
    "# 문자열의 사칙연산"
   ]
  },
  {
   "cell_type": "code",
   "execution_count": 35,
   "id": "f8e73820",
   "metadata": {},
   "outputs": [
    {
     "ename": "TypeError",
     "evalue": "unsupported operand type(s) for //: 'str' and 'str'",
     "output_type": "error",
     "traceback": [
      "\u001b[0;31m---------------------------------------------------------------------------\u001b[0m",
      "\u001b[0;31mTypeError\u001b[0m                                 Traceback (most recent call last)",
      "Cell \u001b[0;32mIn[35], line 4\u001b[0m\n\u001b[1;32m      2\u001b[0m s \u001b[38;5;241m+\u001b[39m s\n\u001b[1;32m      3\u001b[0m s \u001b[38;5;241m*\u001b[39m \u001b[38;5;241m3\u001b[39m\n\u001b[0;32m----> 4\u001b[0m s \u001b[38;5;241m/\u001b[39m\u001b[38;5;241m/\u001b[39ms\n",
      "\u001b[0;31mTypeError\u001b[0m: unsupported operand type(s) for //: 'str' and 'str'"
     ]
    }
   ],
   "source": [
    "s = 'leehojun'\n",
    "s + s\n",
    "s * 3\n",
    "# s //s  문자열은 더하기 곱하기만"
   ]
  },
  {
   "cell_type": "code",
   "execution_count": null,
   "id": "85c7776e",
   "metadata": {},
   "outputs": [],
   "source": [
    "name = 'leehojun'\n",
    "age = 10\n",
    "s = '이름은 %s 입니다. 나ㅏ이는 %d 입니다.' %(name, age)"
   ]
  },
  {
   "cell_type": "code",
   "execution_count": 39,
   "id": "d201961d",
   "metadata": {},
   "outputs": [
    {
     "ename": "NameError",
     "evalue": "name 'name' is not defined",
     "output_type": "error",
     "traceback": [
      "\u001b[0;31m---------------------------------------------------------------------------\u001b[0m",
      "\u001b[0;31mNameError\u001b[0m                                 Traceback (most recent call last)",
      "Cell \u001b[0;32mIn[39], line 1\u001b[0m\n\u001b[0;32m----> 1\u001b[0m \u001b[38;5;28mprint\u001b[39m(\u001b[38;5;124m'\u001b[39m\u001b[38;5;124m1. 이름은 \u001b[39m\u001b[38;5;132;01m{}\u001b[39;00m\u001b[38;5;124m 입니다. 나이는 \u001b[39m\u001b[38;5;132;01m{}\u001b[39;00m\u001b[38;5;124m입니다.\u001b[39m\u001b[38;5;124m'\u001b[39m\u001b[38;5;241m.\u001b[39mformat(name,age))\n",
      "\u001b[0;31mNameError\u001b[0m: name 'name' is not defined"
     ]
    }
   ],
   "source": [
    "print('1. 이름은 {} 입니다. 나이는 {}입니다.'.format(name,age))"
   ]
  },
  {
   "cell_type": "code",
   "execution_count": 40,
   "id": "b1b6a12b",
   "metadata": {},
   "outputs": [
    {
     "name": "stdout",
     "output_type": "stream",
     "text": [
      "2X3=6\n"
     ]
    }
   ],
   "source": [
    "print('{}X{}={}'.format(2,3,6))"
   ]
  },
  {
   "cell_type": "code",
   "execution_count": 42,
   "id": "3483b6f8",
   "metadata": {},
   "outputs": [
    {
     "name": "stdout",
     "output_type": "stream",
     "text": [
      "2.100\n",
      "2.1000\n"
     ]
    }
   ],
   "source": [
    "print('{0:.3f}'.format(2.1))\n",
    "print('{0:.4f}'.format(2.1))"
   ]
  },
  {
   "cell_type": "code",
   "execution_count": null,
   "id": "9946c065",
   "metadata": {},
   "outputs": [],
   "source": []
  }
 ],
 "metadata": {
  "kernelspec": {
   "display_name": "Python 3 (ipykernel)",
   "language": "python",
   "name": "python3"
  },
  "language_info": {
   "codemirror_mode": {
    "name": "ipython",
    "version": 3
   },
   "file_extension": ".py",
   "mimetype": "text/x-python",
   "name": "python",
   "nbconvert_exporter": "python",
   "pygments_lexer": "ipython3",
   "version": "3.11.5"
  }
 },
 "nbformat": 4,
 "nbformat_minor": 5
}
