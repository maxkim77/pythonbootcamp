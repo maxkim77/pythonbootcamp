{
  "nbformat": 4,
  "nbformat_minor": 0,
  "metadata": {
    "colab": {
      "provenance": [],
      "authorship_tag": "ABX9TyOmgMFVt3cNdDEdSkk6WEsi",
      "include_colab_link": true
    },
    "kernelspec": {
      "name": "python3",
      "display_name": "Python 3"
    },
    "language_info": {
      "name": "python"
    }
  },
  "cells": [
    {
      "cell_type": "markdown",
      "metadata": {
        "id": "view-in-github",
        "colab_type": "text"
      },
      "source": [
        "<a href=\"https://colab.research.google.com/github/maxkim77/pythonbootcamp/blob/main/%EB%B0%98%EB%B3%B5%EB%AC%B8.ipynb\" target=\"_parent\"><img src=\"https://colab.research.google.com/assets/colab-badge.svg\" alt=\"Open In Colab\"/></a>"
      ]
    },
    {
      "cell_type": "code",
      "execution_count": 1,
      "metadata": {
        "id": "Ms-9Jtu_Wm89"
      },
      "outputs": [],
      "source": [
        "#[In]\n",
        "\n",
        "이름 = '캣'\n",
        "설명 = '위니브 월드에서 가장 급성장하는 생선회사 대표 캣'\n",
        "나이 = 19\n",
        "오늘_잡은_물고기 = '100000'\n",
        "직원수 = 4\n",
        "키 = '45.9cm'\n",
        "몸무게 = 1.6\n",
        "잡식 = True\n",
        "돈 = 1100000\n",
        "훈장 = ['백상아리를 잡은 고양이', '성실한 납세자', '해골섬 낚시꾼', '청년 고용 착한 기업', '회사를 설립한 자']\n",
        "기술 = ['고기잡이', '고기팔기', '낚시_Lv5', '통발_Lv5', '큰그물_Lv5']"
      ]
    },
    {
      "cell_type": "code",
      "source": [
        "#[In]\n",
        "\n",
        "for x in (1,2,3,4,5):\n",
        "\tprint(f'고등어 포장 {x}번째 입니다.')"
      ],
      "metadata": {
        "colab": {
          "base_uri": "https://localhost:8080/"
        },
        "id": "ir6f5bOrWp1q",
        "outputId": "bed93673-990c-4611-cc0f-acd047cb5a9e"
      },
      "execution_count": 3,
      "outputs": [
        {
          "output_type": "stream",
          "name": "stdout",
          "text": [
            "고등어 포장 1번째 입니다.\n",
            "고등어 포장 2번째 입니다.\n",
            "고등어 포장 3번째 입니다.\n",
            "고등어 포장 4번째 입니다.\n",
            "고등어 포장 5번째 입니다.\n"
          ]
        }
      ]
    },
    {
      "cell_type": "code",
      "source": [
        "#[In]\n",
        "\n",
        "왕국 = '위니브 월드'\n",
        "for a in 왕국 :\n",
        "    print(a)"
      ],
      "metadata": {
        "colab": {
          "base_uri": "https://localhost:8080/"
        },
        "id": "UAP20dJTWve3",
        "outputId": "1f794e8d-5567-4e1f-8a90-96eb37a8a3b2"
      },
      "execution_count": 5,
      "outputs": [
        {
          "output_type": "stream",
          "name": "stdout",
          "text": [
            "위\n",
            "니\n",
            "브\n",
            " \n",
            "월\n",
            "드\n"
          ]
        }
      ]
    },
    {
      "cell_type": "code",
      "source": [
        "#[In]\n",
        "\n",
        "기술 = ['고기잡기', '고기팔기', '낚시_Lv1', '통발_Lv1', '큰그물_Lv1']\n",
        "for a in 기술:\n",
        "    print(a)"
      ],
      "metadata": {
        "colab": {
          "base_uri": "https://localhost:8080/"
        },
        "id": "y4SuIx8RW543",
        "outputId": "774a7f89-3b04-4406-e14b-460e387d6bac"
      },
      "execution_count": 7,
      "outputs": [
        {
          "output_type": "stream",
          "name": "stdout",
          "text": [
            "고기잡기\n",
            "고기팔기\n",
            "낚시_Lv1\n",
            "통발_Lv1\n",
            "큰그물_Lv1\n"
          ]
        }
      ]
    },
    {
      "cell_type": "code",
      "source": [
        "\n",
        "캣의_상태창 = {\n",
        "    '이름': '캣',\n",
        "    '설명':'위니브 월드에서 가장 급성장하는 생선회사 대표 캣',\n",
        "    '나이':'19',\n",
        "    '키': '45.9cm',\n",
        "    '몸무게': 1.6\n",
        "}\n",
        "\n",
        "for a in 캣의_상태창:\n",
        "    print(a)"
      ],
      "metadata": {
        "colab": {
          "base_uri": "https://localhost:8080/"
        },
        "id": "EF5K9qo8X_F3",
        "outputId": "eaabed8c-c69a-401c-9faf-72788c26582c"
      },
      "execution_count": 9,
      "outputs": [
        {
          "output_type": "stream",
          "name": "stdout",
          "text": [
            "이름\n",
            "설명\n",
            "나이\n",
            "키\n",
            "몸무게\n"
          ]
        }
      ]
    },
    {
      "cell_type": "code",
      "source": [
        "#[In]\n",
        "\n",
        "for key,value in 캣의_상태창.items():\n",
        "    print(\"{0} : {1}\".format(key, value))"
      ],
      "metadata": {
        "colab": {
          "base_uri": "https://localhost:8080/"
        },
        "id": "TODcr3K2YHXI",
        "outputId": "7a3b1fb8-94ea-4768-c816-b3e8a05d91ce"
      },
      "execution_count": 11,
      "outputs": [
        {
          "output_type": "stream",
          "name": "stdout",
          "text": [
            "이름 : 캣\n",
            "설명 : 위니브 월드에서 가장 급성장하는 생선회사 대표 캣\n",
            "나이 : 19\n",
            "키 : 45.9cm\n",
            "몸무게 : 1.6\n"
          ]
        }
      ]
    },
    {
      "cell_type": "code",
      "source": [
        "#[In]\n",
        "\n",
        "for a in range(0, 10, 2):\n",
        "    print(a)"
      ],
      "metadata": {
        "colab": {
          "base_uri": "https://localhost:8080/"
        },
        "id": "rXTrdPGcYMou",
        "outputId": "7628e2af-ff77-44cc-d818-9b9bf3145c86"
      },
      "execution_count": 13,
      "outputs": [
        {
          "output_type": "stream",
          "name": "stdout",
          "text": [
            "0\n",
            "2\n",
            "4\n",
            "6\n",
            "8\n"
          ]
        }
      ]
    },
    {
      "cell_type": "code",
      "source": [
        "#[In]\n",
        "\n",
        "for a in range(10, 5, -1):\n",
        "    print(a)"
      ],
      "metadata": {
        "colab": {
          "base_uri": "https://localhost:8080/"
        },
        "id": "UmPcCmvjYQY2",
        "outputId": "c8dfd37d-3499-4602-ecd2-d09dc59ae987"
      },
      "execution_count": 15,
      "outputs": [
        {
          "output_type": "stream",
          "name": "stdout",
          "text": [
            "10\n",
            "9\n",
            "8\n",
            "7\n",
            "6\n"
          ]
        }
      ]
    },
    {
      "cell_type": "code",
      "source": [
        "#[In]\n",
        "\n",
        "listx= [100,200,300,400]\n",
        "strx= 'abcd'\n",
        "listxlter = iter(listx)\n",
        "strxlter= iter(strx)\n",
        "print(next(listxlter),next(listxlter),next(listxlter),next(listxlter))\n",
        "print(next(strxlter),next(strxlter),next(strxlter),next(strxlter))"
      ],
      "metadata": {
        "colab": {
          "base_uri": "https://localhost:8080/"
        },
        "id": "uVIPbYo0YWce",
        "outputId": "868ddd70-ff04-4ad6-d7ad-db9a5abf273c"
      },
      "execution_count": 17,
      "outputs": [
        {
          "output_type": "stream",
          "name": "stdout",
          "text": [
            "100 200 300 400\n",
            "a b c d\n"
          ]
        }
      ]
    },
    {
      "cell_type": "code",
      "source": [
        "#[In]\n",
        "\n",
        "for i in range(100):\n",
        "    print(f'{i} 물고기를 잡았습니다.')\n",
        "    if i == 5:\n",
        "        print('만선입니다. 물고기를 다 잡았습니다.')\n",
        "        break\n",
        "else:\n",
        "    print('아직 여유가 좀 있지만, 물고기가 더 없는 것 같으니 이정도로 만족하고 돌아갑시다.')\n",
        "print('수고하셨습니다.')"
      ],
      "metadata": {
        "colab": {
          "base_uri": "https://localhost:8080/"
        },
        "id": "c-ulaPfgYYJf",
        "outputId": "b20b09e3-7977-47db-ee25-bac76699cb9f"
      },
      "execution_count": 19,
      "outputs": [
        {
          "output_type": "stream",
          "name": "stdout",
          "text": [
            "0 물고기를 잡았습니다.\n",
            "1 물고기를 잡았습니다.\n",
            "2 물고기를 잡았습니다.\n",
            "3 물고기를 잡았습니다.\n",
            "4 물고기를 잡았습니다.\n",
            "5 물고기를 잡았습니다.\n",
            "만선입니다. 물고기를 다 잡았습니다.\n",
            "수고하셨습니다.\n"
          ]
        }
      ]
    },
    {
      "cell_type": "code",
      "source": [
        "#[In]\n",
        "\n",
        "#1\n",
        "x= [i for i in range(1, 10)]\n",
        "print(x)\n",
        "\n",
        "#2\n",
        "y=['{}X{}={}'.format(i, j, i*j) for i in range(2, 10) for j in range(1, 10)]\n",
        "print(y)\n",
        "\n",
        "#3\n",
        "def sumthingFunction(i):\n",
        "    if i % 100 ==0:\n",
        "        return i\n",
        "    else:\n",
        "        return 0\n",
        "기존리스트= [100,200,300,101,202,303]\n",
        "새로운리스트= [sumthingFunction(i) for i in 기존리스트]\n",
        "print(sum(새로운리스트))"
      ],
      "metadata": {
        "colab": {
          "base_uri": "https://localhost:8080/"
        },
        "id": "t4b_-AcFYdj2",
        "outputId": "b62cf8f7-4d50-4d83-8c92-8919d66b0fdc"
      },
      "execution_count": 21,
      "outputs": [
        {
          "output_type": "stream",
          "name": "stdout",
          "text": [
            "[1, 2, 3, 4, 5, 6, 7, 8, 9]\n",
            "['2X1=2', '2X2=4', '2X3=6', '2X4=8', '2X5=10', '2X6=12', '2X7=14', '2X8=16', '2X9=18', '3X1=3', '3X2=6', '3X3=9', '3X4=12', '3X5=15', '3X6=18', '3X7=21', '3X8=24', '3X9=27', '4X1=4', '4X2=8', '4X3=12', '4X4=16', '4X5=20', '4X6=24', '4X7=28', '4X8=32', '4X9=36', '5X1=5', '5X2=10', '5X3=15', '5X4=20', '5X5=25', '5X6=30', '5X7=35', '5X8=40', '5X9=45', '6X1=6', '6X2=12', '6X3=18', '6X4=24', '6X5=30', '6X6=36', '6X7=42', '6X8=48', '6X9=54', '7X1=7', '7X2=14', '7X3=21', '7X4=28', '7X5=35', '7X6=42', '7X7=49', '7X8=56', '7X9=63', '8X1=8', '8X2=16', '8X3=24', '8X4=32', '8X5=40', '8X6=48', '8X7=56', '8X8=64', '8X9=72', '9X1=9', '9X2=18', '9X3=27', '9X4=36', '9X5=45', '9X6=54', '9X7=63', '9X8=72', '9X9=81']\n",
            "600\n"
          ]
        }
      ]
    },
    {
      "cell_type": "code",
      "source": [
        "#[In]\n",
        "\n",
        "#다중 리스트 for문\n",
        "skill = [\n",
        "        ('고기잡이', 100),\n",
        "        ('고기팔기', 120),\n",
        "        ('낚시', 5),\n",
        "        ('통발', 5),\n",
        "        ('큰그물', 5)\n",
        "]\n",
        "\n",
        "for i,j in skill:\n",
        "    print(i,j)\n"
      ],
      "metadata": {
        "colab": {
          "base_uri": "https://localhost:8080/"
        },
        "id": "RHelLNFNYgDf",
        "outputId": "0a7280d6-1751-47f5-e677-22a81018a32e"
      },
      "execution_count": 23,
      "outputs": [
        {
          "output_type": "stream",
          "name": "stdout",
          "text": [
            "고기잡이 100\n",
            "고기팔기 120\n",
            "낚시 5\n",
            "통발 5\n",
            "큰그물 5\n"
          ]
        }
      ]
    },
    {
      "cell_type": "code",
      "source": [
        "#[In]\n",
        "\n",
        "# enumerate\n",
        "\n",
        "skill = [\n",
        "        ('고기잡이', 100, 'SS'),\n",
        "        ('고기팔기', 120, 'SSS'),\n",
        "        ('낚시', 5, 'C'),\n",
        "        ('통발', 5, 'C'),\n",
        "        ('큰그물', 5, 'C')\n",
        "]\n",
        "\n",
        "for i, (skillName, skillLevel, skillGrade) in enumerate(skill):\n",
        "    print(i, skillName, skillLevel, skillGrade)\n",
        "\n",
        "for i, j in enumerate(skill, 100):\n",
        "    print(i, j)"
      ],
      "metadata": {
        "colab": {
          "base_uri": "https://localhost:8080/"
        },
        "id": "HcrzJqSRYjx-",
        "outputId": "296df497-68f8-4ba3-e390-8797b0831307"
      },
      "execution_count": 25,
      "outputs": [
        {
          "output_type": "stream",
          "name": "stdout",
          "text": [
            "0 고기잡이 100 SS\n",
            "1 고기팔기 120 SSS\n",
            "2 낚시 5 C\n",
            "3 통발 5 C\n",
            "4 큰그물 5 C\n",
            "100 ('고기잡이', 100, 'SS')\n",
            "101 ('고기팔기', 120, 'SSS')\n",
            "102 ('낚시', 5, 'C')\n",
            "103 ('통발', 5, 'C')\n",
            "104 ('큰그물', 5, 'C')\n"
          ]
        }
      ]
    },
    {
      "cell_type": "code",
      "source": [
        "#[In]\n",
        "\n",
        "시간 = 0\n",
        "현재시간 = int(input(\"시(hour)를 입력해주세요. \"))\n",
        "종료시간 = 18\n",
        "if 현재시간 < 종료시간:\n",
        "    print('영업시간이 끝났기 때문에 영업을 종료합니다.')\n",
        "else:\n",
        "    while True:\n",
        "\t\t\t\t시간 += 1\n",
        "        현재시간 += 1\n",
        "        print('{}시간이 지나 {}시가 되었습니다'.format(시간,현재시간))\n",
        "        if 현재시간 == 종료시간:\n",
        "            print('영업 종료시간이 되었기 때문에 영업을 종료합니다.')\n",
        "            break"
      ],
      "metadata": {
        "colab": {
          "base_uri": "https://localhost:8080/",
          "height": 142
        },
        "id": "i_0-QENzYn3f",
        "outputId": "93be98ce-0a69-4f6d-e781-4535109b2fe6"
      },
      "execution_count": 29,
      "outputs": [
        {
          "output_type": "error",
          "ename": "IndentationError",
          "evalue": "ignored",
          "traceback": [
            "\u001b[0;36m  File \u001b[0;32m\"<tokenize>\"\u001b[0;36m, line \u001b[0;32m11\u001b[0m\n\u001b[0;31m    현재시간 += 1\u001b[0m\n\u001b[0m    ^\u001b[0m\n\u001b[0;31mIndentationError\u001b[0m\u001b[0;31m:\u001b[0m unindent does not match any outer indentation level\n"
          ]
        }
      ]
    },
    {
      "cell_type": "code",
      "source": [
        "# 예제1(while)\n",
        "while 조건:\n",
        "    반복 실행할 코드\n",
        "    continue #while 다음 반복문 수행\n",
        "    반복 실행할 코드 # continue 사용시 무시되는 코드\n",
        "\n",
        "# 예제2(for)\n",
        "for 변수 in 범위:\n",
        "    반복 실행할 코드\n",
        "    continue #for 다음 반복문 수행\n",
        "    반복 실행할 코드 # continue 사용시 무시되는 코드"
      ],
      "metadata": {
        "colab": {
          "base_uri": "https://localhost:8080/",
          "height": 142
        },
        "id": "OK6xz8iLYqew",
        "outputId": "21448223-8c9f-4b66-e56c-5731a8213203"
      },
      "execution_count": 31,
      "outputs": [
        {
          "output_type": "error",
          "ename": "SyntaxError",
          "evalue": "ignored",
          "traceback": [
            "\u001b[0;36m  File \u001b[0;32m\"<ipython-input-31-1f032672f2d3>\"\u001b[0;36m, line \u001b[0;32m3\u001b[0m\n\u001b[0;31m    반복 실행할 코드\u001b[0m\n\u001b[0m       ^\u001b[0m\n\u001b[0;31mSyntaxError\u001b[0m\u001b[0;31m:\u001b[0m invalid syntax\n"
          ]
        }
      ]
    },
    {
      "cell_type": "code",
      "source": [
        "#[In]\n",
        "\n",
        "#for, else문\n",
        "for i in range(5, 0, -1):\n",
        "    print(\"고등어 \", i, \" 개 남았습니다.\")\n",
        "else:\n",
        "    print('고등어 다 팔렸습니다.')"
      ],
      "metadata": {
        "colab": {
          "base_uri": "https://localhost:8080/"
        },
        "id": "d5PRmorlYufe",
        "outputId": "024a2e34-afdc-43c8-d91e-c13e6e0f0444"
      },
      "execution_count": 33,
      "outputs": [
        {
          "output_type": "stream",
          "name": "stdout",
          "text": [
            "고등어  5  개 남았습니다.\n",
            "고등어  4  개 남았습니다.\n",
            "고등어  3  개 남았습니다.\n",
            "고등어  2  개 남았습니다.\n",
            "고등어  1  개 남았습니다.\n",
            "고등어 다 팔렸습니다.\n"
          ]
        }
      ]
    },
    {
      "cell_type": "code",
      "source": [
        "#[In]\n",
        "\n",
        "i = 2\n",
        "while i < 10 :\n",
        "    k = 1\n",
        "    while k < 10:\n",
        "        print(i, \" * \", k, \" = \", i * k)\n",
        "        k += 1\n",
        "    i += 1"
      ],
      "metadata": {
        "colab": {
          "base_uri": "https://localhost:8080/"
        },
        "id": "pWPtHw9eYx8G",
        "outputId": "6ddc56f8-5270-40c0-a049-70eea4616bd3"
      },
      "execution_count": 35,
      "outputs": [
        {
          "output_type": "stream",
          "name": "stdout",
          "text": [
            "2  *  1  =  2\n",
            "2  *  2  =  4\n",
            "2  *  3  =  6\n",
            "2  *  4  =  8\n",
            "2  *  5  =  10\n",
            "2  *  6  =  12\n",
            "2  *  7  =  14\n",
            "2  *  8  =  16\n",
            "2  *  9  =  18\n",
            "3  *  1  =  3\n",
            "3  *  2  =  6\n",
            "3  *  3  =  9\n",
            "3  *  4  =  12\n",
            "3  *  5  =  15\n",
            "3  *  6  =  18\n",
            "3  *  7  =  21\n",
            "3  *  8  =  24\n",
            "3  *  9  =  27\n",
            "4  *  1  =  4\n",
            "4  *  2  =  8\n",
            "4  *  3  =  12\n",
            "4  *  4  =  16\n",
            "4  *  5  =  20\n",
            "4  *  6  =  24\n",
            "4  *  7  =  28\n",
            "4  *  8  =  32\n",
            "4  *  9  =  36\n",
            "5  *  1  =  5\n",
            "5  *  2  =  10\n",
            "5  *  3  =  15\n",
            "5  *  4  =  20\n",
            "5  *  5  =  25\n",
            "5  *  6  =  30\n",
            "5  *  7  =  35\n",
            "5  *  8  =  40\n",
            "5  *  9  =  45\n",
            "6  *  1  =  6\n",
            "6  *  2  =  12\n",
            "6  *  3  =  18\n",
            "6  *  4  =  24\n",
            "6  *  5  =  30\n",
            "6  *  6  =  36\n",
            "6  *  7  =  42\n",
            "6  *  8  =  48\n",
            "6  *  9  =  54\n",
            "7  *  1  =  7\n",
            "7  *  2  =  14\n",
            "7  *  3  =  21\n",
            "7  *  4  =  28\n",
            "7  *  5  =  35\n",
            "7  *  6  =  42\n",
            "7  *  7  =  49\n",
            "7  *  8  =  56\n",
            "7  *  9  =  63\n",
            "8  *  1  =  8\n",
            "8  *  2  =  16\n",
            "8  *  3  =  24\n",
            "8  *  4  =  32\n",
            "8  *  5  =  40\n",
            "8  *  6  =  48\n",
            "8  *  7  =  56\n",
            "8  *  8  =  64\n",
            "8  *  9  =  72\n",
            "9  *  1  =  9\n",
            "9  *  2  =  18\n",
            "9  *  3  =  27\n",
            "9  *  4  =  36\n",
            "9  *  5  =  45\n",
            "9  *  6  =  54\n",
            "9  *  7  =  63\n",
            "9  *  8  =  72\n",
            "9  *  9  =  81\n"
          ]
        }
      ]
    },
    {
      "cell_type": "code",
      "source": [
        "fish = 5\n",
        "while True:\n",
        "    print(\"고등어 \", fish, \"개 남았습니다.\")\n",
        "    fish -= 1\n",
        "    if fish == 0:\n",
        "        print(\"고등어다 팔렸습니다.\")\n",
        "        break"
      ],
      "metadata": {
        "colab": {
          "base_uri": "https://localhost:8080/"
        },
        "id": "EH2p3TqCaezT",
        "outputId": "97735d9f-2bb3-48b1-b5f1-7cf7acead57a"
      },
      "execution_count": 37,
      "outputs": [
        {
          "output_type": "stream",
          "name": "stdout",
          "text": [
            "고등어  5 개 남았습니다.\n",
            "고등어  4 개 남았습니다.\n",
            "고등어  3 개 남았습니다.\n",
            "고등어  2 개 남았습니다.\n",
            "고등어  1 개 남았습니다.\n",
            "고등어다 팔렸습니다.\n"
          ]
        }
      ]
    },
    {
      "cell_type": "code",
      "source": [
        "#[In]\n",
        "\n",
        "fish = 5\n",
        "while fish > 0:\n",
        "    print(\"고등어 \", fish, \"개 남았습니다.\")\n",
        "    # if fish < 3:\n",
        "    #     break\n",
        "    fish -= 1\n",
        "else:\n",
        "    print('고등어 다 팔렸습니다.')"
      ],
      "metadata": {
        "colab": {
          "base_uri": "https://localhost:8080/"
        },
        "id": "WjQrsuFVazom",
        "outputId": "3697bba7-db94-4080-8444-5ebf4e101ab3"
      },
      "execution_count": 39,
      "outputs": [
        {
          "output_type": "stream",
          "name": "stdout",
          "text": [
            "고등어  5 개 남았습니다.\n",
            "고등어  4 개 남았습니다.\n",
            "고등어  3 개 남았습니다.\n",
            "고등어  2 개 남았습니다.\n",
            "고등어  1 개 남았습니다.\n",
            "고등어 다 팔렸습니다.\n"
          ]
        }
      ]
    },
    {
      "cell_type": "code",
      "source": [
        "#[In]\n",
        "\n",
        "시간 = 0\n",
        "현재시간 = int(input(\"시(hour)를 입력해주세요. \"))\n",
        "종료시간 = 18\n",
        "if 현재시간 < 종료시간:\n",
        "    print('영업시간이 끝났기 때문에 영업을 종료합니다.')\n",
        "else:\n",
        "    while True:\n",
        "\t\t\t\t시간 += 1\n",
        "        현재시간 += 1\n",
        "        print('{}시간이 지나 {}시가 되었습니다'.format(시간,현재시간))\n",
        "        if 현재시간 == 종료시간:\n",
        "            print('영업 종료시간이 되었기 때문에 영업을 종료합니다.')\n",
        "            break"
      ],
      "metadata": {
        "colab": {
          "base_uri": "https://localhost:8080/",
          "height": 142
        },
        "id": "B0cSzZaKa48l",
        "outputId": "b4b2832a-d5d8-4684-cd70-bdb36313f782"
      },
      "execution_count": 43,
      "outputs": [
        {
          "output_type": "error",
          "ename": "IndentationError",
          "evalue": "ignored",
          "traceback": [
            "\u001b[0;36m  File \u001b[0;32m\"<tokenize>\"\u001b[0;36m, line \u001b[0;32m11\u001b[0m\n\u001b[0;31m    현재시간 += 1\u001b[0m\n\u001b[0m    ^\u001b[0m\n\u001b[0;31mIndentationError\u001b[0m\u001b[0;31m:\u001b[0m unindent does not match any outer indentation level\n"
          ]
        }
      ]
    },
    {
      "cell_type": "code",
      "source": [
        "#[In]\n",
        "\n",
        "#continue\n",
        "구매개수_총가격= [\n",
        "    (3, 15000),\n",
        "    (5, 25000),\n",
        "    (1, 5000),\n",
        "    (8, 40000),\n",
        "    (0, 0),\n",
        "    (2, 10000)\n",
        "]\n",
        "\n",
        "for 구매개수, 총가격 in 구매개수_총가격:\n",
        "    if 구매개수 < 1:\n",
        "        continue\n",
        "    print('구매개수는 {}개이며 {}원입니다.'.format(구매개수, 총가격))"
      ],
      "metadata": {
        "colab": {
          "base_uri": "https://localhost:8080/"
        },
        "id": "lKzCrpyWbA-u",
        "outputId": "10f204fc-2183-4886-c4dd-6c15900b3810"
      },
      "execution_count": 45,
      "outputs": [
        {
          "output_type": "stream",
          "name": "stdout",
          "text": [
            "구매개수는 3개이며 15000원입니다.\n",
            "구매개수는 5개이며 25000원입니다.\n",
            "구매개수는 1개이며 5000원입니다.\n",
            "구매개수는 8개이며 40000원입니다.\n",
            "구매개수는 2개이며 10000원입니다.\n"
          ]
        }
      ]
    },
    {
      "cell_type": "code",
      "source": [
        "#[In]\n",
        "\n",
        "#for, else문\n",
        "for i in range(5, 0, -1):\n",
        "    print(\"고등어 \", i, \" 개 남았습니다.\")\n",
        "else:\n",
        "    print('고등어 다 팔렸습니다.')"
      ],
      "metadata": {
        "colab": {
          "base_uri": "https://localhost:8080/"
        },
        "id": "ub6yszOnbH_l",
        "outputId": "c1e0ae4f-1f02-4c90-b768-cfc19b943af2"
      },
      "execution_count": 47,
      "outputs": [
        {
          "output_type": "stream",
          "name": "stdout",
          "text": [
            "고등어  5  개 남았습니다.\n",
            "고등어  4  개 남았습니다.\n",
            "고등어  3  개 남았습니다.\n",
            "고등어  2  개 남았습니다.\n",
            "고등어  1  개 남았습니다.\n",
            "고등어 다 팔렸습니다.\n"
          ]
        }
      ]
    },
    {
      "cell_type": "code",
      "source": [
        "#[In]\n",
        "\n",
        "try:\n",
        "    i = 1\n",
        "    j = 1\n",
        "    x = i/j\n",
        "except:\n",
        "    print(\"error\")\n",
        "else:\n",
        "    print(x)"
      ],
      "metadata": {
        "colab": {
          "base_uri": "https://localhost:8080/"
        },
        "id": "LtfjITS-bM_2",
        "outputId": "2f186f1d-7b99-4729-dd69-220b7e3a59db"
      },
      "execution_count": 49,
      "outputs": [
        {
          "output_type": "stream",
          "name": "stdout",
          "text": [
            "1.0\n"
          ]
        }
      ]
    },
    {
      "cell_type": "code",
      "source": [
        "#[In]\n",
        "\n",
        "i = 2\n",
        "while i < 10 :\n",
        "    k = 1\n",
        "    while k < 10:\n",
        "        print(i, \" * \", k, \" = \", i * k)\n",
        "        k += 1\n",
        "    i += 1"
      ],
      "metadata": {
        "colab": {
          "base_uri": "https://localhost:8080/"
        },
        "id": "fsbkFQePbPCN",
        "outputId": "9fa765b7-369a-41cc-e088-ccc881653fbd"
      },
      "execution_count": 50,
      "outputs": [
        {
          "output_type": "stream",
          "name": "stdout",
          "text": [
            "2  *  1  =  2\n",
            "2  *  2  =  4\n",
            "2  *  3  =  6\n",
            "2  *  4  =  8\n",
            "2  *  5  =  10\n",
            "2  *  6  =  12\n",
            "2  *  7  =  14\n",
            "2  *  8  =  16\n",
            "2  *  9  =  18\n",
            "3  *  1  =  3\n",
            "3  *  2  =  6\n",
            "3  *  3  =  9\n",
            "3  *  4  =  12\n",
            "3  *  5  =  15\n",
            "3  *  6  =  18\n",
            "3  *  7  =  21\n",
            "3  *  8  =  24\n",
            "3  *  9  =  27\n",
            "4  *  1  =  4\n",
            "4  *  2  =  8\n",
            "4  *  3  =  12\n",
            "4  *  4  =  16\n",
            "4  *  5  =  20\n",
            "4  *  6  =  24\n",
            "4  *  7  =  28\n",
            "4  *  8  =  32\n",
            "4  *  9  =  36\n",
            "5  *  1  =  5\n",
            "5  *  2  =  10\n",
            "5  *  3  =  15\n",
            "5  *  4  =  20\n",
            "5  *  5  =  25\n",
            "5  *  6  =  30\n",
            "5  *  7  =  35\n",
            "5  *  8  =  40\n",
            "5  *  9  =  45\n",
            "6  *  1  =  6\n",
            "6  *  2  =  12\n",
            "6  *  3  =  18\n",
            "6  *  4  =  24\n",
            "6  *  5  =  30\n",
            "6  *  6  =  36\n",
            "6  *  7  =  42\n",
            "6  *  8  =  48\n",
            "6  *  9  =  54\n",
            "7  *  1  =  7\n",
            "7  *  2  =  14\n",
            "7  *  3  =  21\n",
            "7  *  4  =  28\n",
            "7  *  5  =  35\n",
            "7  *  6  =  42\n",
            "7  *  7  =  49\n",
            "7  *  8  =  56\n",
            "7  *  9  =  63\n",
            "8  *  1  =  8\n",
            "8  *  2  =  16\n",
            "8  *  3  =  24\n",
            "8  *  4  =  32\n",
            "8  *  5  =  40\n",
            "8  *  6  =  48\n",
            "8  *  7  =  56\n",
            "8  *  8  =  64\n",
            "8  *  9  =  72\n",
            "9  *  1  =  9\n",
            "9  *  2  =  18\n",
            "9  *  3  =  27\n",
            "9  *  4  =  36\n",
            "9  *  5  =  45\n",
            "9  *  6  =  54\n",
            "9  *  7  =  63\n",
            "9  *  8  =  72\n",
            "9  *  9  =  81\n"
          ]
        }
      ]
    }
  ]
}