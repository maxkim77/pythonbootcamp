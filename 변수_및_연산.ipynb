{
  "nbformat": 4,
  "nbformat_minor": 0,
  "metadata": {
    "colab": {
      "provenance": [],
      "authorship_tag": "ABX9TyN4ev4g0tTT/+wXCblaXFmU",
      "include_colab_link": true
    },
    "kernelspec": {
      "name": "python3",
      "display_name": "Python 3"
    },
    "language_info": {
      "name": "python"
    }
  },
  "cells": [
    {
      "cell_type": "markdown",
      "metadata": {
        "id": "view-in-github",
        "colab_type": "text"
      },
      "source": [
        "<a href=\"https://colab.research.google.com/github/maxkim77/pythonbootcamp/blob/main/%EB%B3%80%EC%88%98_%EB%B0%8F_%EC%97%B0%EC%82%B0.ipynb\" target=\"_parent\"><img src=\"https://colab.research.google.com/assets/colab-badge.svg\" alt=\"Open In Colab\"/></a>"
      ]
    },
    {
      "cell_type": "code",
      "execution_count": null,
      "metadata": {
        "id": "ZvP-au4TJcE7"
      },
      "outputs": [],
      "source": [
        "이름 = '캣'\n",
        "설명 = '위니브 월드 외각에 살고 있는 생선가게 주인 캣(cat)'\n",
        "나이 = 10\n",
        "오늘_잡은_물고기 = '10'\n",
        "키 = '45cm'\n",
        "몸무게 = 1.2\n",
        "육식 = True\n",
        "초식 = True\n",
        "돈 = 1000\n",
        "훈장 = []\n",
        "기술 = ['고기잡이', '고기팔기']"
      ]
    },
    {
      "cell_type": "code",
      "source": [
        "나이 = 11\n",
        "이름, 나이"
      ],
      "metadata": {
        "colab": {
          "base_uri": "https://localhost:8080/"
        },
        "id": "38E9TmH-Kr0V",
        "outputId": "861ce1d4-f349-4616-c829-0e27fb908447"
      },
      "execution_count": null,
      "outputs": [
        {
          "output_type": "execute_result",
          "data": {
            "text/plain": [
              "('캣', 11)"
            ]
          },
          "metadata": {},
          "execution_count": 3
        }
      ]
    },
    {
      "cell_type": "code",
      "source": [
        "나이 = 나이 + 1\n",
        "나이"
      ],
      "metadata": {
        "colab": {
          "base_uri": "https://localhost:8080/"
        },
        "id": "vHKCvIRRKxB8",
        "outputId": "d970821d-b9ac-4f59-c87e-aa9198ee1d5f"
      },
      "execution_count": null,
      "outputs": [
        {
          "output_type": "execute_result",
          "data": {
            "text/plain": [
              "13"
            ]
          },
          "metadata": {},
          "execution_count": 5
        }
      ]
    },
    {
      "cell_type": "code",
      "source": [
        "#[In]\n",
        "\n",
        "# 오늘_잡은_물고기 = '10'\n",
        "오늘_잡은_물고기 = int(오늘_잡은_물고기) + 1\n",
        "오늘_잡은_물고기"
      ],
      "metadata": {
        "colab": {
          "base_uri": "https://localhost:8080/"
        },
        "id": "OcxMsgLxK3gA",
        "outputId": "c20abb67-f13a-4e45-c375-236b9805f484"
      },
      "execution_count": null,
      "outputs": [
        {
          "output_type": "execute_result",
          "data": {
            "text/plain": [
              "12"
            ]
          },
          "metadata": {},
          "execution_count": 7
        }
      ]
    },
    {
      "cell_type": "code",
      "source": [
        "print(type(이름)) # '캣'\n",
        "print(type(나이)) # 현재 12\n",
        "print(type(오늘_잡은_물고기)) #현재 11\n",
        "print(type(몸무게))\n",
        "print(type(육식)) #True\n",
        "print(type(기술)) #['고기잡이', '고기팔기']"
      ],
      "metadata": {
        "colab": {
          "base_uri": "https://localhost:8080/"
        },
        "id": "RZht_yN7K6xR",
        "outputId": "fb8844e1-5252-4566-a8b7-e215aa2a6e40"
      },
      "execution_count": null,
      "outputs": [
        {
          "output_type": "stream",
          "name": "stdout",
          "text": [
            "<class 'str'>\n",
            "<class 'int'>\n",
            "<class 'int'>\n",
            "<class 'float'>\n",
            "<class 'bool'>\n",
            "<class 'list'>\n"
          ]
        }
      ]
    },
    {
      "cell_type": "code",
      "source": [
        "#[In]\n",
        "\n",
        "나이 = 10\n",
        "print(type(나이))\n",
        "print(dir(나이))"
      ],
      "metadata": {
        "id": "Ci0sqBGJLDeh",
        "outputId": "1b313b35-8f15-4aee-f1d5-eebffdc7c904",
        "colab": {
          "base_uri": "https://localhost:8080/"
        }
      },
      "execution_count": null,
      "outputs": [
        {
          "output_type": "stream",
          "name": "stdout",
          "text": [
            "<class 'int'>\n",
            "['__abs__', '__add__', '__and__', '__bool__', '__ceil__', '__class__', '__delattr__', '__dir__', '__divmod__', '__doc__', '__eq__', '__float__', '__floor__', '__floordiv__', '__format__', '__ge__', '__getattribute__', '__getnewargs__', '__gt__', '__hash__', '__index__', '__init__', '__init_subclass__', '__int__', '__invert__', '__le__', '__lshift__', '__lt__', '__mod__', '__mul__', '__ne__', '__neg__', '__new__', '__or__', '__pos__', '__pow__', '__radd__', '__rand__', '__rdivmod__', '__reduce__', '__reduce_ex__', '__repr__', '__rfloordiv__', '__rlshift__', '__rmod__', '__rmul__', '__ror__', '__round__', '__rpow__', '__rrshift__', '__rshift__', '__rsub__', '__rtruediv__', '__rxor__', '__setattr__', '__sizeof__', '__str__', '__sub__', '__subclasshook__', '__truediv__', '__trunc__', '__xor__', 'as_integer_ratio', 'bit_count', 'bit_length', 'conjugate', 'denominator', 'from_bytes', 'imag', 'numerator', 'real', 'to_bytes']\n"
          ]
        }
      ]
    },
    {
      "cell_type": "code",
      "source": [
        "#[In]\n",
        "\n",
        "이름 = '캣'\n",
        "설명 = '위니브 월드 외각에 살고 있는 생선가게 주인 캣(cat)'\n",
        "나이 = 13\n",
        "오늘_잡은_물고기 = '10'\n",
        "키 = '45cm'\n",
        "몸무게 = 1.2\n",
        "육식 = True\n",
        "초식 = True\n",
        "돈 = 5000\n",
        "훈장 = ['백상아리를 잡은 고양이']\n",
        "기술 = ['고기잡이', '고기팔기']"
      ],
      "metadata": {
        "id": "nZ8Zbeq8_8xR"
      },
      "execution_count": null,
      "outputs": []
    },
    {
      "cell_type": "code",
      "source": [
        "#[In]\n",
        "\n",
        "# 캣의 규칙\n",
        "오늘_잡은_물고기 = 0\n",
        "오늘_판_물고기 = 0\n",
        "매출 = 0\n",
        "\n",
        "# 물고기를 10마리 잡았습니다.\n",
        "# 모든 물고기는 100원입니다.\n",
        "\n",
        "오늘_잡은_물고기 = 오늘_잡은_물고기 + 10\n",
        "오늘_판_물고기 = 오늘_잡은_물고기\n",
        "재고 = 오늘_잡은_물고기 - 오늘_판_물고기\n",
        "매출 = 100*10\n",
        "\n",
        "#f-string 출력 방법을 사용하셔도 좋습니다.\n",
        "print('나는 오늘', 오늘_잡은_물고기, '마리를 잡았고', 오늘_판_물고기,'마리를 팔았다냥')\n",
        "print('재고는', 재고,'마리다냥!')\n",
        "print('오늘', 매출,'원을 벌었으니 내일은', 매출*2,'원을 벌테다!')"
      ],
      "metadata": {
        "colab": {
          "base_uri": "https://localhost:8080/"
        },
        "id": "ZyInC4AvABIg",
        "outputId": "e469277c-f411-4b8a-b0db-5819d46be84b"
      },
      "execution_count": null,
      "outputs": [
        {
          "output_type": "stream",
          "name": "stdout",
          "text": [
            "나는 오늘 10 마리를 잡았고 10 마리를 팔았다냥\n",
            "재고는 0 마리다냥!\n",
            "오늘 1000 원을 벌었으니 내일은 2000 원을 벌테다!\n"
          ]
        }
      ]
    },
    {
      "cell_type": "code",
      "source": [
        "#[In]\n",
        "\n",
        "# A등급 : 1000원, B등급 : 500원, C등급 : 100원\n",
        "# 오늘 잡은 물고기 : A등급 5마리, B등급 7마리, C등급 10마리\n",
        "\n",
        "A등급 = 5\n",
        "B등급 = 7\n",
        "C등급 = 10\n",
        "매출 = 0"
      ],
      "metadata": {
        "id": "zJGVTYxtAHKn"
      },
      "execution_count": null,
      "outputs": []
    },
    {
      "cell_type": "code",
      "source": [
        "#[In]\n",
        "\n",
        "# 손님의 주문\n",
        "# A등급 2마리, B등급 3마리 주세요.\n",
        "# 받은 돈은 4000원 입니다.\n",
        "\n",
        "A등급 = A등급 - 2\n",
        "B등급 = B등급 - 3\n",
        "\n",
        "합계 = 1000*2 + 500*3\n",
        "받은_돈 = 4000\n",
        "\n",
        "print(f'감사합니다. 여기 거스름 돈 {받은_돈 - 합계}원 입니다.')\n",
        "\n",
        "재고 = A등급 + B등급 + C등급\n",
        "매출 = 매출 + 합계\n",
        "\n",
        "print(f'현재 매출 : {매출}, 재고 : {재고}')"
      ],
      "metadata": {
        "colab": {
          "base_uri": "https://localhost:8080/"
        },
        "id": "5Hqytm2rALU_",
        "outputId": "73d84588-8de4-4b10-a27a-b886dfd6ad33"
      },
      "execution_count": null,
      "outputs": [
        {
          "output_type": "stream",
          "name": "stdout",
          "text": [
            "감사합니다. 여기 거스름 돈 500원 입니다.\n",
            "현재 매출 : 7000, 재고 : 12\n"
          ]
        }
      ]
    },
    {
      "cell_type": "code",
      "source": [
        "#[In]\n",
        "\n",
        "# 세금 납부하기\n",
        "총매출 = 10000\n",
        "세금 = 총매출/4\n",
        "순이익 = 총매출-세금\n",
        "\n",
        "print(총매출, 세금, 순이익)\n",
        "# 10000 2500.0 7500.0"
      ],
      "metadata": {
        "colab": {
          "base_uri": "https://localhost:8080/"
        },
        "id": "3hmVgqW7AWuX",
        "outputId": "2c464254-374e-4e2f-95c4-3119b3a22b5f"
      },
      "execution_count": null,
      "outputs": [
        {
          "output_type": "stream",
          "name": "stdout",
          "text": [
            "10000 2500.0 7500.0\n"
          ]
        }
      ]
    },
    {
      "cell_type": "code",
      "source": [
        "#[In]\n",
        "\n",
        "a = 5\n",
        "b = 2\n",
        "\n",
        "print('a + b = ', a + b)    # 7\n",
        "print('a - b = ', a - b)    # 3\n",
        "print('a * b = ', a * b)    # 10\n",
        "print('a / b = ', a / b)    # 2.5\n",
        "print('a ** b = ', a ** b)  # 25\n",
        "print('a // b = ', a // b)  # 2\n",
        "print('a % b = ', a % b)    # 1"
      ],
      "metadata": {
        "colab": {
          "base_uri": "https://localhost:8080/"
        },
        "id": "AUy5HmO5Aa4q",
        "outputId": "5d573a39-b5cb-456c-c65c-3b8b65edd60f"
      },
      "execution_count": null,
      "outputs": [
        {
          "output_type": "stream",
          "name": "stdout",
          "text": [
            "a + b =  7\n",
            "a - b =  3\n",
            "a * b =  10\n",
            "a / b =  2.5\n",
            "a ** b =  25\n",
            "a // b =  2\n",
            "a % b =  1\n"
          ]
        }
      ]
    },
    {
      "cell_type": "code",
      "source": [
        "#[In]\n",
        "\n",
        "# 1번 예제\n",
        "오늘_잡은_물고기 = 오늘_잡은_물고기 + 10\n",
        "오늘_판_물고기 = 오늘_잡은_물고기"
      ],
      "metadata": {
        "id": "L5wgUuKNAdkH"
      },
      "execution_count": null,
      "outputs": []
    },
    {
      "cell_type": "code",
      "source": [
        "#[In]\n",
        "\n",
        "a = 10\n",
        "b = 2\n",
        "\n",
        "a += b   # 12\n",
        "a -= b   # 10\n",
        "a *= b   # 20\n",
        "a /= b   # 10.0\n",
        "a **= b  # 100.0\n",
        "a //= b  # 50.0\n",
        "a %= b   # 0.0"
      ],
      "metadata": {
        "id": "JOnI65siAdmY"
      },
      "execution_count": null,
      "outputs": []
    },
    {
      "cell_type": "code",
      "source": [
        "#[In]\n",
        "\n",
        "오늘_잡은_물고기 = 10\n",
        "오늘_판_물고기 = 5\n",
        "\n",
        "print(오늘_잡은_물고기 > 오늘_판_물고기)  # True\n",
        "print(오늘_잡은_물고기 < 오늘_판_물고기)  # False\n",
        "print(오늘_잡은_물고기 >= 오늘_판_물고기) # True\n",
        "print(오늘_잡은_물고기 <= 오늘_판_물고기) # False\n",
        "print(오늘_잡은_물고기 == 오늘_판_물고기) # False\n",
        "print(오늘_잡은_물고기 != 오늘_판_물고기) # True"
      ],
      "metadata": {
        "colab": {
          "base_uri": "https://localhost:8080/"
        },
        "id": "lemAqg6gAlkP",
        "outputId": "262f8fd3-a5f1-4c21-e99c-6adc2d5e9d26"
      },
      "execution_count": null,
      "outputs": [
        {
          "output_type": "stream",
          "name": "stdout",
          "text": [
            "True\n",
            "False\n",
            "True\n",
            "False\n",
            "False\n",
            "True\n"
          ]
        }
      ]
    },
    {
      "cell_type": "code",
      "source": [
        "오늘_잡은_물고기 = 10\n",
        "오늘_판_물고기 = 5\n",
        "\n",
        "if 오늘_잡은_물고기 == 오늘_판_물고기 :\n",
        "    print('오늘 물고기 판매 끝!')\n",
        "\n",
        "if 오늘_잡은_물고기 != 오늘_판_물고기 :\n",
        "    print('아직 물고기를 다 팔지 않았습니다.')"
      ],
      "metadata": {
        "colab": {
          "base_uri": "https://localhost:8080/"
        },
        "id": "AcEekT0MAoEB",
        "outputId": "a188eb0e-2cf9-4995-9191-b1452c6247cd"
      },
      "execution_count": null,
      "outputs": [
        {
          "output_type": "stream",
          "name": "stdout",
          "text": [
            "아직 물고기를 다 팔지 않았습니다.\n"
          ]
        }
      ]
    },
    {
      "cell_type": "code",
      "source": [
        "#[In]\n",
        "\n",
        "a = True\n",
        "b = False\n",
        "\n",
        "print(a and a) # True\n",
        "print(a and b) # False\n",
        "print(a or a)  # True\n",
        "print(a or b)  # True\n",
        "print(not a)   # False\n",
        "print(not b)   # True"
      ],
      "metadata": {
        "colab": {
          "base_uri": "https://localhost:8080/"
        },
        "id": "arO-J5vLAq8_",
        "outputId": "0ca4ded8-7d6c-44ab-c589-95ad90962afd"
      },
      "execution_count": null,
      "outputs": [
        {
          "output_type": "stream",
          "name": "stdout",
          "text": [
            "True\n",
            "False\n",
            "True\n",
            "True\n",
            "False\n",
            "True\n"
          ]
        }
      ]
    },
    {
      "cell_type": "code",
      "source": [
        "#[In]\n",
        "\n",
        "오늘_잡은_물고기 = 10\n",
        "오늘_판_물고기 = 10\n",
        "전날_매출 = 10000\n",
        "오늘_매출 = 20000\n",
        "\n",
        "if (오늘_잡은_물고기 == 오늘_판_물고기) and (전날_매출*2 <= 오늘_매출):\n",
        "    print('오늘 물고기 판매 끝!')\n",
        "    print('매출 목표 달성!')\n",
        "else :\n",
        "    print('오늘의 목표를 달성하지 못했습니다.')"
      ],
      "metadata": {
        "colab": {
          "base_uri": "https://localhost:8080/"
        },
        "id": "2E-TZVogAztw",
        "outputId": "339de3a9-027b-4685-f039-e01dbc1a3b83"
      },
      "execution_count": null,
      "outputs": [
        {
          "output_type": "stream",
          "name": "stdout",
          "text": [
            "오늘 물고기 판매 끝!\n",
            "매출 목표 달성!\n"
          ]
        }
      ]
    },
    {
      "cell_type": "code",
      "source": [
        "#[In]\n",
        "\n",
        "if (오늘_잡은_물고기 == 오늘_판_물고기) or (전날_매출*2 <= 오늘_매출):\n",
        "    print('오늘 물고기 판매 끝!')\n",
        "    print('매출 목표 달성!')"
      ],
      "metadata": {
        "colab": {
          "base_uri": "https://localhost:8080/"
        },
        "id": "yjMEHzeLA3Bw",
        "outputId": "8ea9f284-0458-40b0-e983-c4744aa7a221"
      },
      "execution_count": null,
      "outputs": [
        {
          "output_type": "stream",
          "name": "stdout",
          "text": [
            "오늘 물고기 판매 끝!\n",
            "매출 목표 달성!\n"
          ]
        }
      ]
    },
    {
      "cell_type": "code",
      "source": [
        "#[In]\n",
        "\n",
        "a = 2\n",
        "b = 3\n",
        "\n",
        "print(a & b) # 결과값 : 0"
      ],
      "metadata": {
        "colab": {
          "base_uri": "https://localhost:8080/"
        },
        "id": "ptFgGsbrA8Lo",
        "outputId": "c48c97d3-14b9-40e6-c40c-d7727a374512"
      },
      "execution_count": null,
      "outputs": [
        {
          "output_type": "stream",
          "name": "stdout",
          "text": [
            "2\n"
          ]
        }
      ]
    },
    {
      "cell_type": "code",
      "source": [
        "#[In]\n",
        "\n",
        "a = 7\n",
        "b = 8\n",
        "\n",
        "print(a | b) # 결과값 : 15"
      ],
      "metadata": {
        "colab": {
          "base_uri": "https://localhost:8080/"
        },
        "id": "gvb7VvKNBAAv",
        "outputId": "641ea7e8-3ff7-45c4-83de-1f9ab5c1f1aa"
      },
      "execution_count": null,
      "outputs": [
        {
          "output_type": "stream",
          "name": "stdout",
          "text": [
            "15\n"
          ]
        }
      ]
    },
    {
      "cell_type": "code",
      "source": [
        "#[In]\n",
        "\n",
        "a = 7\n",
        "b = 2\n",
        "\n",
        "print(a << b)  # 결과값 :28"
      ],
      "metadata": {
        "colab": {
          "base_uri": "https://localhost:8080/"
        },
        "id": "7g8ctwbDBE0P",
        "outputId": "0c25f8af-b32f-4be2-ae56-eabeac25a4f3"
      },
      "execution_count": null,
      "outputs": [
        {
          "output_type": "stream",
          "name": "stdout",
          "text": [
            "28\n"
          ]
        }
      ]
    },
    {
      "cell_type": "code",
      "source": [
        "캣의_통장 = 1000000\n",
        "물고기의_가격 = 30\n",
        "잡은_물고기의_수 = '정답을 입력하세요.'\n",
        "물고기를_팔고_난_후_캣의_통장 = '정답을 입력하세요.'"
      ],
      "metadata": {
        "id": "itK8wseoDo_H"
      },
      "execution_count": null,
      "outputs": []
    },
    {
      "cell_type": "code",
      "source": [
        "반지름 = 500\n",
        "고기가_잘_잡히는_반경 = '정답을 입력하세요.'"
      ],
      "metadata": {
        "id": "Icq4j5D3DsCP"
      },
      "execution_count": null,
      "outputs": []
    },
    {
      "cell_type": "code",
      "source": [
        "해골섬의_넓이 = 314\n",
        "반지름 = 500\n",
        "물고기를_다_잡고_난_후_캣의_통장 = '정답을 입력하세요.'"
      ],
      "metadata": {
        "id": "H5OTfUgsDyKu"
      },
      "execution_count": null,
      "outputs": []
    },
    {
      "cell_type": "code",
      "source": [
        "물고기_등급 = {'A등급':100, 'B등급':50}\n",
        "총액 = '정답을 입력하세요.'\n",
        "비율 = '정답을 입력하세요.'"
      ],
      "metadata": {
        "id": "geV0Rx0rD1PW"
      },
      "execution_count": null,
      "outputs": []
    },
    {
      "cell_type": "code",
      "source": [
        "훈장.append('해골섬 낚시꾼')"
      ],
      "metadata": {
        "id": "XmThgYEQD3DO"
      },
      "execution_count": null,
      "outputs": []
    }
  ]
}