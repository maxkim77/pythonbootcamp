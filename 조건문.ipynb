{
  "nbformat": 4,
  "nbformat_minor": 0,
  "metadata": {
    "colab": {
      "provenance": [],
      "authorship_tag": "ABX9TyMqSBnxJDDW/OJkjXTQJvyi",
      "include_colab_link": true
    },
    "kernelspec": {
      "name": "python3",
      "display_name": "Python 3"
    },
    "language_info": {
      "name": "python"
    }
  },
  "cells": [
    {
      "cell_type": "markdown",
      "metadata": {
        "id": "view-in-github",
        "colab_type": "text"
      },
      "source": [
        "<a href=\"https://colab.research.google.com/github/maxkim77/pythonbootcamp/blob/main/%EC%A1%B0%EA%B1%B4%EB%AC%B8.ipynb\" target=\"_parent\"><img src=\"https://colab.research.google.com/assets/colab-badge.svg\" alt=\"Open In Colab\"/></a>"
      ]
    },
    {
      "cell_type": "code",
      "execution_count": 1,
      "metadata": {
        "id": "eKTKrtmMRX7T"
      },
      "outputs": [],
      "source": [
        "#[In]\n",
        "\n",
        "이름 = '캣'\n",
        "설명 = '위니브 월드 외각에 살고 있는 생선가게 주인 캣(cat)'\n",
        "나이 = 17\n",
        "오늘_잡은_물고기 = '10000'\n",
        "키 = '45.7cm'\n",
        "몸무게 = 1.4\n",
        "육식 = True\n",
        "초식 = True\n",
        "돈 = 100000\n",
        "훈장 = ['백상아리를 잡은 고양이', '성실한 납세자', '해골섬 낚시꾼']\n",
        "기술 = ['고기잡이', '고기팔기', '낚시_Lv3', '통발_Lv3', '큰그물_Lv3']"
      ]
    },
    {
      "cell_type": "code",
      "source": [
        "기술[2] = 기술[2][:-1] + '3'"
      ],
      "metadata": {
        "id": "Vt_ZNEWARbB1"
      },
      "execution_count": 3,
      "outputs": []
    },
    {
      "cell_type": "code",
      "source": [
        "#[In]\n",
        "\n",
        "#캣의 직원 채용\n",
        "\n",
        "성실성 = 85\n",
        "프로그래밍능력 = 70\n",
        "\n",
        "if 성실성 >= 80 and 프로그래밍능력 >= 70:\n",
        "    print('합격입니다.')"
      ],
      "metadata": {
        "colab": {
          "base_uri": "https://localhost:8080/"
        },
        "id": "3aQH2wavRr-b",
        "outputId": "2bee72d9-c432-4d48-cd96-0d7fc64ae46c"
      },
      "execution_count": 5,
      "outputs": [
        {
          "output_type": "stream",
          "name": "stdout",
          "text": [
            "합격입니다.\n"
          ]
        }
      ]
    },
    {
      "cell_type": "code",
      "source": [
        "#[In]\n",
        "\n",
        "#생선회사의 할인제도\n",
        "# A등급:1000원, B등급:500원, C등급:100원\n",
        "\n",
        "def 계산(a, b, c):\n",
        "    가격 = {'A등급':1000, 'B등급':500, 'C등급':100}\n",
        "    합계 = a*가격['A등급'] + b*가격['B등급'] + c*가격['C등급']\n",
        "    return 합계\n",
        "\n",
        "총합 = 계산(10, 2, 3)\n",
        "\n",
        "if 총합 >= 10000:\n",
        "    print('할인을 해주겠다냥!')\n",
        "    print(f'총 {int(총합 * 0.9)}노드를 내면 된다냥!') #10% 할인"
      ],
      "metadata": {
        "colab": {
          "base_uri": "https://localhost:8080/"
        },
        "id": "EJuwe3JwRxwR",
        "outputId": "d24844fb-b206-45be-a4e3-f89ffee2c145"
      },
      "execution_count": 7,
      "outputs": [
        {
          "output_type": "stream",
          "name": "stdout",
          "text": [
            "할인을 해주겠다냥!\n",
            "총 10170노드를 내면 된다냥!\n"
          ]
        }
      ]
    },
    {
      "cell_type": "code",
      "source": [
        "#[In]\n",
        "\n",
        "#캣의 직원 채용\n",
        "성실성 = int(input('성실성을 입력하세요 :'))\n",
        "프로그래밍능력 = int(input('프로그래밍능력을 입력하세요 :'))\n",
        "\n",
        "if 성실성 >= 80 and 프로그래밍능력 >= 70:\n",
        "    print('합격입니다.')\n",
        "    if 성실성 >= 90:\n",
        "        print('보너스를 드립니다.')\n",
        "else:\n",
        "    print('불합격입니다.')"
      ],
      "metadata": {
        "id": "vm8BSafYR3MY"
      },
      "execution_count": null,
      "outputs": []
    },
    {
      "cell_type": "code",
      "source": [
        "#[In]\n",
        "\n",
        "# A등급:1000원, B등급:500원, C등급:100원\n",
        "\n",
        "def 계산(a, b, c):\n",
        "    가격 = {'A등급':1000, 'B등급':500, 'C등급':100}\n",
        "    합계 = a*가격['A등급'] + b*가격['B등급'] + c*가격['C등급']\n",
        "    return 합계\n",
        "\n",
        "총합 = 계산(20, 2, 3)\n",
        "print(총합)\n",
        "\n",
        "if 총합 >= 20000:\n",
        "    print('20% 할인을 해주겠다냥!')\n",
        "    print(f'총 {int(총합 * 0.8)}노드를 내면 된다냥!') #20% 할인\n",
        "elif 총합 >= 10000:\n",
        "    print('10% 할인을 해주겠다냥!')\n",
        "    print(f'총 {int(총합 * 0.9)}노드를 내면 된다냥!') #10% 할인\n",
        "elif 총합 >= 5000:\n",
        "    print('5% 할인을 해주겠다냥!')\n",
        "    print(f'총 {int(총합 * 0.95)}노드를 내면 된다냥!') #5% 할인\n",
        "else:\n",
        "    print(f'총 {총합}노드를 내면 된다냥!')"
      ],
      "metadata": {
        "id": "Kp9jFSpNR8jz"
      },
      "execution_count": null,
      "outputs": []
    }
  ]
}